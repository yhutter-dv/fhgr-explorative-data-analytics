{
 "cells": [
  {
   "cell_type": "markdown",
   "metadata": {
    "collapsed": false,
    "pycharm": {
     "name": "#%% md\n"
    }
   },
   "source": [
    "# Einlesen von Daten aus Dateien"
   ]
  },
  {
   "cell_type": "markdown",
   "metadata": {
    "collapsed": false,
    "pycharm": {
     "name": "#%% md\n"
    }
   },
   "source": [
    "Daten liegen oft in Form von Dateien vor. Damit spielt das Einlesen von Dateien eine wichtige Rolle im explorativen Datenanalyseprozess.\n",
    "\n",
    "Folgende Schritte sollten beim Einlesen unbekannter Daten beachtet bzw. durchgeführt werden:\n",
    "* Sichtung der Daten\n",
    "* Probeweises Einlesen\n",
    "* Validierung des Einlesevorgangs\n",
    "* Verbesserung des Einlesens"
   ]
  },
  {
   "cell_type": "markdown",
   "metadata": {
    "collapsed": false,
    "pycharm": {
     "name": "#%% md\n"
    }
   },
   "source": [
    "Grobes Vorgehen:\n",
    "* was ist über die Daten bereits bekannt?\n",
    "  * Metadaten?\n",
    "  * Datenbeschreibung?\n",
    "  * Dateiformat?\n",
    "  * Dateityp?\n",
    "* Sichtung mittels Texteditor (z.B. Notepad++) oder direkt in der IDE\n",
    "  * wichtig: Format \"raten\", Trennzeichen, Sonderzeichen, Umbrüche?\n",
    "* Entscheidung für Einlesevorgang:\n",
    "  * Python-file\n",
    "  * csvreader\n",
    "  * pandas\n",
    "  * ...\n",
    "* Durchführung Einlesen\n",
    "* Prüfung/Validierung\n",
    "  * alles enthalten?\n",
    "  * Formatierung wie gewünscht?\n",
    "  * Trennzeichen, Leerzeichen, Sonderzeichen erhalten?\n",
    "  * Überflüssiges gelöscht?\n",
    "* Verbesserungen\n",
    "  * nach Veränderungen nochmalige Validierung erforderlich"
   ]
  },
  {
   "cell_type": "markdown",
   "metadata": {
    "collapsed": false,
    "pycharm": {
     "name": "#%% md\n"
    }
   },
   "source": [
    "## Sichtung der Daten\n"
   ]
  },
  {
   "cell_type": "markdown",
   "metadata": {
    "collapsed": false,
    "pycharm": {
     "name": "#%% md\n"
    }
   },
   "source": [
    "### Beispiele\n",
    "\n",
    "```csv\n",
    "  ,COUNTRY,POP,AREA,GDP,CONT,IND_DAY\n",
    "  CHN,China,1398.72,9596.96,12234.78,Asia,\n",
    "  IND,India,1351.16,3287.26,2575.67,Asia,1947-08-15\n",
    "  USA,US,329.74,9833.52,19485.39,N.America,1776-07-04\n",
    "```\n",
    "\n",
    "The Zen of Python, by Tim Peters\n",
    "Beautiful is better than ugly.\n",
    "Explicit is better than implicit.\n",
    "Simple is better than complex.\n",
    "Complex is better than complicated.\n",
    "Flat is better than nested.\n",
    "\n",
    "```json\n",
    "{\n",
    "  \"Title\": \"Bicentennial Man\",\n",
    "  \"Release Date\": \"Dec 17 1999\",\n",
    "  \"MPAA Rating\": \"PG\",\n",
    "  \"Running Time min\": 132,\n",
    "  \"Distributor\": \"Walt Disney Pictures\",\n",
    "  \"Source\": \"Based on Book/Short Story\",\n",
    "  \"Major Genre\": \"Drama\",\n",
    "  \"Creative Type\": \"Science Fiction\",\n",
    "  \"Director\": \"Chris Columbus\",\n",
    "  \"Rotten Tomatoes Rating\": 38,\n",
    "  \"IMDB Rating\": 6.4,\n",
    "  \"IMDB Votes\": 28827\n",
    "}\n",
    "``` "
   ]
  },
  {
   "cell_type": "markdown",
   "metadata": {
    "collapsed": false,
    "pycharm": {
     "name": "#%% md\n"
    }
   },
   "source": [
    "## Einlesen von CSV"
   ]
  },
  {
   "cell_type": "code",
   "execution_count": 2,
   "metadata": {
    "collapsed": false,
    "pycharm": {
     "name": "#%%\n"
    }
   },
   "outputs": [
    {
     "name": "stdout",
     "output_type": "stream",
     "text": [
      "['', 'COUNTRY', 'POP', 'AREA', 'GDP', 'CONT', 'IND_DAY']\n",
      "['CHN', 'China', '1398.72', '9596.96', '12234.78', 'Asia', '']\n",
      "['IND', 'India', '1351.16', '3287.26', '2575.67', 'Asia', '1947-08-15']\n",
      "['USA', 'US', '329.74', '9833.52', '19485.39', 'N.America', '1776-07-04']\n",
      "['IDN', 'Indonesia', '268.07', '1910.93', '1015.54', 'Asia', '1945-08-17']\n",
      "['BRA', 'Brazil', '210.32', '8515.77', '2055.51', 'S.America', '1822-09-07']\n",
      "['PAK', 'Pakistan', '205.71', '881.91', '302.14', 'Asia', '1947-08-14']\n",
      "['NGA', 'Nigeria', '200.96', '923.77', '375.77', 'Africa', '1960-10-01']\n",
      "['BGD', 'Bangladesh', '167.09', '147.57', '245.63', 'Asia', '1971-03-26']\n",
      "['RUS', 'Russia', '146.79', '17098.25', '1530.75', '', '1992-06-12']\n",
      "['MEX', 'Mexico', '126.58', '1964.38', '1158.23', 'N.America', '1810-09-16']\n",
      "['JPN', 'Japan', '126.22', '377.97', '4872.42', 'Asia', '']\n",
      "['DEU', 'Germany', '83.02', '357.11', '3693.2', 'Europe', '']\n",
      "['FRA', 'France', '67.02', '640.68', '2582.49', 'Europe', '1789-07-14']\n",
      "['GBR', 'UK', '66.44', '242.5', '2631.23', 'Europe', '']\n",
      "['ITA', 'Italy', '60.36', '301.34', '1943.84', 'Europe', '']\n",
      "['ARG', 'Argentina', '44.94', '2780.4', '637.49', 'S.America', '1816-07-09']\n",
      "['DZA', 'Algeria', '43.38', '2381.74', '167.56', 'Africa', '1962-07-05']\n",
      "['CAN', 'Canada', '37.59', '9984.67', '1647.12', 'N.America', '1867-07-01']\n",
      "['AUS', 'Australia', '25.47', '7692.02', '1408.68', 'Oceania', '']\n",
      "['KAZ', 'Kazakhstan', '18.53', '2724.9', '159.41', 'Asia', '1991-12-16']\n"
     ]
    }
   ],
   "source": [
    "import csv\n",
    "with open('data/country_data.csv') as f:\n",
    "    reader = csv.reader(f, delimiter=',')\n",
    "    for row in reader:\n",
    "        print(row)"
   ]
  },
  {
   "cell_type": "markdown",
   "metadata": {
    "collapsed": false,
    "pycharm": {
     "name": "#%% md\n"
    }
   },
   "source": [
    "Wichtig: \"delimiter\"\n",
    "* ,\n",
    "* ;\n",
    "* Tab: \\t\n",
    "* Leerzeichen\n",
    "* |\n",
    "* ...\n",
    "\n",
    "csv liefert strukturierte Daten zur direkten Weiterverarbeitung:"
   ]
  },
  {
   "cell_type": "code",
   "execution_count": 3,
   "metadata": {
    "collapsed": false,
    "pycharm": {
     "name": "#%%\n"
    }
   },
   "outputs": [
    {
     "name": "stdout",
     "output_type": "stream",
     "text": [
      "COUNTRY is located in CONT.\n",
      "China is located in Asia.\n",
      "India is located in Asia.\n",
      "US is located in N.America.\n",
      "Indonesia is located in Asia.\n",
      "Brazil is located in S.America.\n",
      "Pakistan is located in Asia.\n",
      "Nigeria is located in Africa.\n",
      "Bangladesh is located in Asia.\n",
      "Russia is located in .\n",
      "Mexico is located in N.America.\n",
      "Japan is located in Asia.\n",
      "Germany is located in Europe.\n",
      "France is located in Europe.\n",
      "UK is located in Europe.\n",
      "Italy is located in Europe.\n",
      "Argentina is located in S.America.\n",
      "Algeria is located in Africa.\n",
      "Canada is located in N.America.\n",
      "Australia is located in Oceania.\n",
      "Kazakhstan is located in Asia.\n"
     ]
    }
   ],
   "source": [
    "with open('data/country_data.csv') as f:\n",
    "    reader = csv.reader(f, delimiter=',')\n",
    "    for row in reader:\n",
    "        print(f\"{row[1]} is located in {row[5]}.\")"
   ]
  },
  {
   "cell_type": "code",
   "execution_count": 5,
   "metadata": {
    "collapsed": false,
    "pycharm": {
     "name": "#%%\n"
    }
   },
   "outputs": [
    {
     "name": "stdout",
     "output_type": "stream",
     "text": [
      "Counter({'Asia': 7, 'Europe': 4, 'N.America': 3, 'S.America': 2, 'Africa': 2, 'CONT': 1, '': 1, 'Oceania': 1})\n"
     ]
    }
   ],
   "source": [
    "from collections import Counter\n",
    "continents = Counter()\n",
    "with open('data/country_data.csv') as f:\n",
    "    reader = csv.reader(f, delimiter=',')\n",
    "    for row in reader:\n",
    "        continents.update([row[5]])\n",
    "\n",
    "print(continents)"
   ]
  },
  {
   "cell_type": "markdown",
   "metadata": {
    "collapsed": false,
    "pycharm": {
     "name": "#%% md\n"
    }
   },
   "source": [
    "Die Überschriften stören hier ja mehr als dass sie nutzen.\n",
    "\n",
    "Sonderbehandlung?\n",
    "möglich, aber es gibt etwas Besseres..."
   ]
  },
  {
   "cell_type": "code",
   "execution_count": 7,
   "metadata": {
    "collapsed": false,
    "pycharm": {
     "name": "#%%\n"
    }
   },
   "outputs": [
    {
     "name": "stdout",
     "output_type": "stream",
     "text": [
      "China is located in Asia.\n",
      "India is located in Asia.\n",
      "US is located in N.America.\n",
      "Indonesia is located in Asia.\n",
      "Brazil is located in S.America.\n",
      "Pakistan is located in Asia.\n",
      "Nigeria is located in Africa.\n",
      "Bangladesh is located in Asia.\n",
      "Russia is located in .\n",
      "Mexico is located in N.America.\n",
      "Japan is located in Asia.\n",
      "Germany is located in Europe.\n",
      "France is located in Europe.\n",
      "UK is located in Europe.\n",
      "Italy is located in Europe.\n",
      "Argentina is located in S.America.\n",
      "Algeria is located in Africa.\n",
      "Canada is located in N.America.\n",
      "Australia is located in Oceania.\n",
      "Kazakhstan is located in Asia.\n"
     ]
    }
   ],
   "source": [
    "with open('data/country_data.csv') as f:\n",
    "    dict_reader = csv.DictReader(f, delimiter=',')\n",
    "    for row in dict_reader:\n",
    "        print(f\"{row['COUNTRY']} is located in {row['CONT']}.\")"
   ]
  },
  {
   "cell_type": "markdown",
   "metadata": {
    "collapsed": false,
    "pycharm": {
     "name": "#%% md\n"
    }
   },
   "source": [
    "## Einlesen von Textdaten\n",
    "\n",
    "oder eigentlich von irgendwelchen Daten..."
   ]
  },
  {
   "cell_type": "code",
   "execution_count": 9,
   "metadata": {
    "collapsed": false,
    "pycharm": {
     "name": "#%%\n"
    }
   },
   "outputs": [
    {
     "name": "stdout",
     "output_type": "stream",
     "text": [
      "The Zen of Python, by Tim Peters\n",
      "\n",
      "Beautiful is better than ugly.\n",
      "Explicit is better than implicit.\n",
      "Simple is better than complex.\n",
      "Complex is better than complicated.\n",
      "Flat is better than nested.\n",
      "Sparse is better than dense.\n",
      "Readability counts.\n",
      "Special cases aren't special enough to break the rules.\n",
      "Although practicality beats purity.\n",
      "Errors should never pass silently.\n",
      "Unless explicitly silenced.\n",
      "In the face of ambiguity, refuse the temptation to guess.\n",
      "There should be one-- and preferably only one --obvious way to do it.\n",
      "Although that way may not be obvious at first unless you're Dutch.\n",
      "Now is better than never.\n",
      "Although never is often better than *right* now.\n",
      "If the implementation is hard to explain, it's a bad idea.\n",
      "If the implementation is easy to explain, it may be a good idea.\n",
      "Namespaces are one honking great idea -- let's do more of those!\n"
     ]
    }
   ],
   "source": [
    "f = open('data/zen_of_python.txt', 'r')\n",
    "print(f.read())\n",
    "f.close()"
   ]
  },
  {
   "cell_type": "markdown",
   "metadata": {
    "collapsed": false,
    "pycharm": {
     "name": "#%% md\n"
    }
   },
   "source": [
    "Wichtige Komponenten:\n",
    "* open/close\n",
    "* Art des Zugriffs:\n",
    "  * 'r' \topens a file for reading only\n",
    "  * 'w' \topens a file for writing. If the file exists, it overwrites it, otherwise, it creates a new file.\n",
    "  * 'a' \topens a file for appending only. If the file doesn’t exist, it creates the file.\n",
    "  * 'x' \tcreates a new file. If the file exists, it fails.\n",
    "  * '+' \topens a file for updating.\n",
    "\n",
    "We can also specify opening a file in text mode, 't', the default mode, or binary mode, 'b'. (images, etc.)"
   ]
  },
  {
   "cell_type": "markdown",
   "metadata": {
    "collapsed": false,
    "pycharm": {
     "name": "#%% md\n"
    }
   },
   "source": [
    "Sichere Behandlung von Dateien:"
   ]
  },
  {
   "cell_type": "code",
   "execution_count": 10,
   "metadata": {
    "collapsed": false,
    "pycharm": {
     "name": "#%%\n"
    }
   },
   "outputs": [
    {
     "name": "stdout",
     "output_type": "stream",
     "text": [
      "The Zen of Python, by Tim Peters\n",
      "\n",
      "Beautiful is better than ugly.\n",
      "Explicit is better than implicit.\n",
      "Simple is better than complex.\n",
      "Complex is better than complicated.\n",
      "Flat is better than nested.\n",
      "Sparse is better than dense.\n",
      "Readability counts.\n",
      "Special cases aren't special enough to break the rules.\n",
      "Although practicality beats purity.\n",
      "Errors should never pass silently.\n",
      "Unless explicitly silenced.\n",
      "In the face of ambiguity, refuse the temptation to guess.\n",
      "There should be one-- and preferably only one --obvious way to do it.\n",
      "Although that way may not be obvious at first unless you're Dutch.\n",
      "Now is better than never.\n",
      "Although never is often better than *right* now.\n",
      "If the implementation is hard to explain, it's a bad idea.\n",
      "If the implementation is easy to explain, it may be a good idea.\n",
      "Namespaces are one honking great idea -- let's do more of those!\n"
     ]
    }
   ],
   "source": [
    "with open('data/zen_of_python.txt') as f: # öffnet und schliesst automatisch\n",
    "    print(f.read())"
   ]
  },
  {
   "cell_type": "markdown",
   "metadata": {
    "collapsed": false,
    "pycharm": {
     "name": "#%% md\n"
    }
   },
   "source": [
    "Varianten beim Einlesen:"
   ]
  },
  {
   "cell_type": "code",
   "execution_count": 11,
   "metadata": {
    "collapsed": false,
    "pycharm": {
     "name": "#%%\n"
    }
   },
   "outputs": [
    {
     "name": "stdout",
     "output_type": "stream",
     "text": [
      "The Zen of Python\n"
     ]
    }
   ],
   "source": [
    "with open('data/zen_of_python.txt') as f:\n",
    "    print(f.read(17))"
   ]
  },
  {
   "cell_type": "code",
   "execution_count": 13,
   "metadata": {
    "collapsed": false,
    "pycharm": {
     "name": "#%%\n"
    }
   },
   "outputs": [
    {
     "name": "stdout",
     "output_type": "stream",
     "text": [
      "The Zen of Python, by Tim Peters\n",
      "\n"
     ]
    }
   ],
   "source": [
    "with open('data/zen_of_python.txt') as f:\n",
    "    print(f.readline())"
   ]
  },
  {
   "cell_type": "code",
   "execution_count": 14,
   "metadata": {
    "collapsed": false,
    "pycharm": {
     "name": "#%%\n"
    }
   },
   "outputs": [
    {
     "name": "stdout",
     "output_type": "stream",
     "text": [
      "The Zen of Python, by Tim Peters\n",
      "\n",
      "\n",
      "\n",
      "Beautiful is better than ugly.\n",
      "\n"
     ]
    }
   ],
   "source": [
    "with open('data/zen_of_python.txt') as f:\n",
    "    print(f.readline())\n",
    "    print(f.readline())\n",
    "    print(f.readline())"
   ]
  },
  {
   "cell_type": "code",
   "execution_count": 17,
   "metadata": {
    "collapsed": false,
    "pycharm": {
     "name": "#%%\n"
    }
   },
   "outputs": [
    {
     "name": "stdout",
     "output_type": "stream",
     "text": [
      "The Zen of Python, by Tim Peters\n",
      "\n",
      "Beautiful is better than ugly.\n",
      "Explicit is better than implicit.\n",
      "Simple is better than complex.\n",
      "Complex is better than complicated.\n",
      "Flat is better than nested.\n",
      "Sparse is better than dense.\n",
      "Readability counts.\n",
      "Special cases aren't special enough to break the rules.\n",
      "Although practicality beats purity.\n",
      "Errors should never pass silently.\n",
      "Unless explicitly silenced.\n",
      "In the face of ambiguity, refuse the temptation to guess.\n",
      "There should be one-- and preferably only one --obvious way to do it.\n",
      "Although that way may not be obvious at first unless you're Dutch.\n",
      "Now is better than never.\n",
      "Although never is often better than *right* now.\n",
      "If the implementation is hard to explain, it's a bad idea.\n",
      "If the implementation is easy to explain, it may be a good idea.\n",
      "Namespaces are one honking great idea -- let's do more of those!"
     ]
    }
   ],
   "source": [
    "with open('data/zen_of_python.txt') as f:\n",
    "    line = f.readline()\n",
    "    while line:\n",
    "        print(line, end=\"\")  # \"end\" gleicht ansonsten doppelte Umbrüche aus (je 1 aus Datei und vom print)\n",
    "        line = f.readline()"
   ]
  },
  {
   "cell_type": "code",
   "execution_count": 19,
   "metadata": {
    "collapsed": false,
    "pycharm": {
     "name": "#%%\n"
    }
   },
   "outputs": [
    {
     "name": "stdout",
     "output_type": "stream",
     "text": [
      "<class 'list'>\n",
      "['The Zen of Python, by Tim Peters\\n', '\\n', 'Beautiful is better than ugly.\\n', 'Explicit is better than implicit.\\n', 'Simple is better than complex.\\n', 'Complex is better than complicated.\\n', 'Flat is better than nested.\\n', 'Sparse is better than dense.\\n', 'Readability counts.\\n', \"Special cases aren't special enough to break the rules.\\n\", 'Although practicality beats purity.\\n', 'Errors should never pass silently.\\n', 'Unless explicitly silenced.\\n', 'In the face of ambiguity, refuse the temptation to guess.\\n', 'There should be one-- and preferably only one --obvious way to do it.\\n', \"Although that way may not be obvious at first unless you're Dutch.\\n\", 'Now is better than never.\\n', 'Although never is often better than *right* now.\\n', \"If the implementation is hard to explain, it's a bad idea.\\n\", 'If the implementation is easy to explain, it may be a good idea.\\n', \"Namespaces are one honking great idea -- let's do more of those!\"]\n"
     ]
    }
   ],
   "source": [
    "with open('data/zen_of_python.txt') as f:\n",
    "    lines = f.readlines()\n",
    "\n",
    "print(type(lines))\n",
    "print(lines)"
   ]
  },
  {
   "cell_type": "code",
   "execution_count": 22,
   "metadata": {
    "collapsed": false,
    "pycharm": {
     "name": "#%%\n"
    }
   },
   "outputs": [
    {
     "data": {
      "text/plain": [
       "['Explicit is better than implicit.\\n',\n",
       " 'Simple is better than complex.\\n',\n",
       " 'Complex is better than complicated.\\n']"
      ]
     },
     "execution_count": 22,
     "metadata": {},
     "output_type": "execute_result"
    }
   ],
   "source": [
    "lines[3:6]  # lines kann direkt weiterbenutzt werden..."
   ]
  },
  {
   "cell_type": "code",
   "execution_count": 23,
   "metadata": {
    "collapsed": false,
    "pycharm": {
     "name": "#%%\n"
    }
   },
   "outputs": [
    {
     "data": {
      "text/plain": [
       "\"Namespaces are one honking great idea -- let's do more of those!\""
      ]
     },
     "execution_count": 23,
     "metadata": {},
     "output_type": "execute_result"
    }
   ],
   "source": [
    "lines[-1]"
   ]
  },
  {
   "cell_type": "markdown",
   "metadata": {
    "collapsed": false,
    "pycharm": {
     "name": "#%% md\n"
    }
   },
   "source": [
    "### Datei-/Zeichenformate\n",
    "\n",
    "nicht alles kann automatisch erkannt werden:"
   ]
  },
  {
   "cell_type": "code",
   "execution_count": 29,
   "metadata": {
    "collapsed": false,
    "pycharm": {
     "name": "#%%\n"
    }
   },
   "outputs": [
    {
     "ename": "UnicodeDecodeError",
     "evalue": "'charmap' codec can't decode byte 0x90 in position 244: character maps to <undefined>",
     "output_type": "error",
     "traceback": [
      "\u001b[1;31m---------------------------------------------------------------------------\u001b[0m",
      "\u001b[1;31mUnicodeDecodeError\u001b[0m                        Traceback (most recent call last)",
      "Cell \u001b[1;32mIn [29], line 2\u001b[0m\n\u001b[0;32m      1\u001b[0m \u001b[38;5;28;01mwith\u001b[39;00m \u001b[38;5;28mopen\u001b[39m(\u001b[38;5;124m'\u001b[39m\u001b[38;5;124mdata/unicode-bsp.txt\u001b[39m\u001b[38;5;124m'\u001b[39m) \u001b[38;5;28;01mas\u001b[39;00m f:\n\u001b[1;32m----> 2\u001b[0m     \u001b[38;5;28mprint\u001b[39m(\u001b[43mf\u001b[49m\u001b[38;5;241;43m.\u001b[39;49m\u001b[43mread\u001b[49m\u001b[43m(\u001b[49m\u001b[43m)\u001b[49m)\n",
      "File \u001b[1;32m~\\AppData\\Local\\Programs\\Python\\Python310\\lib\\encodings\\cp1252.py:23\u001b[0m, in \u001b[0;36mIncrementalDecoder.decode\u001b[1;34m(self, input, final)\u001b[0m\n\u001b[0;32m     22\u001b[0m \u001b[38;5;28;01mdef\u001b[39;00m \u001b[38;5;21mdecode\u001b[39m(\u001b[38;5;28mself\u001b[39m, \u001b[38;5;28minput\u001b[39m, final\u001b[38;5;241m=\u001b[39m\u001b[38;5;28;01mFalse\u001b[39;00m):\n\u001b[1;32m---> 23\u001b[0m     \u001b[38;5;28;01mreturn\u001b[39;00m \u001b[43mcodecs\u001b[49m\u001b[38;5;241;43m.\u001b[39;49m\u001b[43mcharmap_decode\u001b[49m\u001b[43m(\u001b[49m\u001b[38;5;28;43minput\u001b[39;49m\u001b[43m,\u001b[49m\u001b[38;5;28;43mself\u001b[39;49m\u001b[38;5;241;43m.\u001b[39;49m\u001b[43merrors\u001b[49m\u001b[43m,\u001b[49m\u001b[43mdecoding_table\u001b[49m\u001b[43m)\u001b[49m[\u001b[38;5;241m0\u001b[39m]\n",
      "\u001b[1;31mUnicodeDecodeError\u001b[0m: 'charmap' codec can't decode byte 0x90 in position 244: character maps to <undefined>"
     ]
    }
   ],
   "source": [
    "with open('data/unicode-bsp.txt') as f:\n",
    "    print(f.read())"
   ]
  },
  {
   "cell_type": "code",
   "execution_count": 30,
   "metadata": {
    "collapsed": false,
    "pycharm": {
     "name": "#%%\n"
    }
   },
   "outputs": [
    {
     "name": "stdout",
     "output_type": "stream",
     "text": [
      "\n",
      "\n",
      "Original by Markus Kuhn, adapted for HTML by Martin Dürst.\n",
      "\n",
      "UTF-8 encoded sample plain-text file\n",
      "‾‾‾‾‾‾‾‾‾‾‾‾‾‾‾‾‾‾‾‾‾‾‾‾‾‾‾‾‾‾‾‾‾‾‾‾\n",
      "\n",
      "Markus Kuhn [ˈmaʳkʊs kuːn] <mkuhn@acm.org> — 1999-08-20\n",
      "\n",
      "\n",
      "The ASCII compatible UTF-8 encoding of ISO 10646 and Unicode\n",
      "plain-text files is defined in RFC 2279 and in ISO 10646-1 Annex R.\n",
      "\n",
      "\n",
      "Using Unicode/UTF-8, you can write in emails and source code things such as\n",
      "\n",
      "Mathematics and Sciences:\n",
      "\n",
      "  ∮ E⋅da = Q,  n → ∞, ∑ f(i) = ∏ g(i), ∀x∈ℝ: ⌈x⌉ = −⌊−x⌋, α ∧ ¬β = ¬(¬α ∨ β),\n",
      "\n",
      "  ℕ ⊆ ℕ₀ ⊂ ℤ ⊂ ℚ ⊂ ℝ ⊂ ℂ, ⊥ < a ≠ b ≡ c ≤ d ≪ ⊤ ⇒ (A ⇔ B),\n",
      "\n",
      "  2H₂ + O₂ ⇌ 2H₂O, R = 4.7 kΩ, ⌀ 200 mm\n",
      "\n",
      "Linguistics and dictionaries:\n",
      "\n",
      "  ði ıntəˈnæʃənəl fəˈnɛtık əsoʊsiˈeıʃn\n",
      "  Y [ˈʏpsilɔn], Yen [jɛn], Yoga [ˈjoːgɑ]\n",
      "\n",
      "APL:\n",
      "\n",
      "  ((V⍳V)=⍳⍴V)/V←,V    ⌷←⍳→⍴∆∇⊃‾⍎⍕⌈\n",
      "\n",
      "Nicer typography in plain text files:\n",
      "\n",
      "  ╔══════════════════════════════════════════╗\n",
      "  ║                                          ║\n",
      "  ║   • ‘single’ and “double” quotes         ║\n",
      "  ║                                          ║\n",
      "  ║   • Curly apostrophes: “We’ve been here” ║\n",
      "  ║                                          ║\n",
      "  ║   • Latin-1 apostrophe and accents: '´`  ║\n",
      "  ║                                          ║\n",
      "  ║   • ‚deutsche‘ „Anführungszeichen“       ║\n",
      "  ║                                          ║\n",
      "  ║   • †, ‡, ‰, •, 3–4, —, −5/+5, ™, …      ║\n",
      "  ║                                          ║\n",
      "  ║   • ASCII safety test: 1lI|, 0OD, 8B     ║\n",
      "  ║                      ╭─────────╮         ║\n",
      "  ║   • the euro symbol: │ 14.95 € │         ║\n",
      "  ║                      ╰─────────╯         ║\n",
      "  ╚══════════════════════════════════════════╝\n",
      "\n",
      "Greek (in Polytonic):\n",
      "\n",
      "  The Greek anthem:\n",
      "\n",
      "  Σὲ γνωρίζω ἀπὸ τὴν κόψη\n",
      "  τοῦ σπαθιοῦ τὴν τρομερή,\n",
      "  σὲ γνωρίζω ἀπὸ τὴν ὄψη\n",
      "  ποὺ μὲ βία μετράει τὴ γῆ.\n",
      "\n",
      "  ᾿Απ᾿ τὰ κόκκαλα βγαλμένη\n",
      "  τῶν ῾Ελλήνων τὰ ἱερά\n",
      "  καὶ σὰν πρῶτα ἀνδρειωμένη\n",
      "  χαῖρε, ὦ χαῖρε, ᾿Ελευθεριά!\n",
      "\n",
      "  From a speech of Demosthenes in the 4th century BC:\n",
      "\n",
      "  Οὐχὶ ταὐτὰ παρίσταταί μοι γιγνώσκειν, ὦ ἄνδρες ᾿Αθηναῖοι,\n",
      "  ὅταν τ᾿ εἰς τὰ πράγματα ἀποβλέψω καὶ ὅταν πρὸς τοὺς\n",
      "  λόγους οὓς ἀκούω· τοὺς μὲν γὰρ λόγους περὶ τοῦ\n",
      "  τιμωρήσασθαι Φίλιππον ὁρῶ γιγνομένους, τὰ δὲ πράγματ᾿ \n",
      "  εἰς τοῦτο προήκοντα,  ὥσθ᾿ ὅπως μὴ πεισόμεθ᾿ αὐτοὶ\n",
      "  πρότερον κακῶς σκέψασθαι δέον. οὐδέν οὖν ἄλλο μοι δοκοῦσιν\n",
      "  οἱ τὰ τοιαῦτα λέγοντες ἢ τὴν ὑπόθεσιν, περὶ ἧς βουλεύεσθαι,\n",
      "  οὐχὶ τὴν οὖσαν παριστάντες ὑμῖν ἁμαρτάνειν. ἐγὼ δέ, ὅτι μέν\n",
      "  ποτ᾿ ἐξῆν τῇ πόλει καὶ τὰ αὑτῆς ἔχειν ἀσφαλῶς καὶ Φίλιππον\n",
      "  τιμωρήσασθαι, καὶ μάλ᾿ ἀκριβῶς οἶδα· ἐπ᾿ ἐμοῦ γάρ, οὐ πάλαι\n",
      "  γέγονεν ταῦτ᾿ ἀμφότερα· νῦν μέντοι πέπεισμαι τοῦθ᾿ ἱκανὸν\n",
      "  προλαβεῖν ἡμῖν εἶναι τὴν πρώτην, ὅπως τοὺς συμμάχους\n",
      "  σώσομεν. ἐὰν γὰρ τοῦτο βεβαίως ὑπάρξῃ, τότε καὶ περὶ τοῦ\n",
      "  τίνα τιμωρήσεταί τις καὶ ὃν τρόπον ἐξέσται σκοπεῖν· πρὶν δὲ\n",
      "  τὴν ἀρχὴν ὀρθῶς ὑποθέσθαι, μάταιον ἡγοῦμαι περὶ τῆς\n",
      "  τελευτῆς ὁντινοῦν ποιεῖσθαι λόγον.\n",
      "\n",
      "  Δημοσθένους, Γ´ ᾿Ολυνθιακὸς\n",
      "\n",
      "Georgian:\n",
      "\n",
      "  From a Unicode conference invitation:\n",
      "\n",
      "  გთხოვთ ახლავე გაიაროთ რეგისტრაცია Unicode-ის მეათე საერთაშორისო\n",
      "  კონფერენციაზე დასასწრებად, რომელიც გაიმართება 10-12 მარტს,\n",
      "  ქ. მაინცში, გერმანიაში. კონფერენცია შეჰკრებს ერთად მსოფლიოს\n",
      "  ექსპერტებს ისეთ დარგებში როგორიცაა ინტერნეტი და Unicode-ი,\n",
      "  ინტერნაციონალიზაცია და ლოკალიზაცია, Unicode-ის გამოყენება\n",
      "  ოპერაციულ სისტემებსა, და გამოყენებით პროგრამებში, შრიფტებში,\n",
      "  ტექსტების დამუშავებასა და მრავალენოვან კომპიუტერულ სისტემებში.\n",
      "\n",
      "Russian:\n",
      "\n",
      "  From a Unicode conference invitation:\n",
      "\n",
      "  Зарегистрируйтесь сейчас на Десятую Международную Конференцию по\n",
      "  Unicode, которая состоится 10-12 марта 1997 года в Майнце в Германии.\n",
      "  Конференция соберет широкий круг экспертов по  вопросам глобального\n",
      "  Интернета и Unicode, локализации и интернационализации, воплощению и\n",
      "  применению Unicode в различных операционных системах и программных\n",
      "  приложениях, шрифтах, верстке и многоязычных компьютерных системах.\n",
      "\n",
      "Thai (UCS Level 2):\n",
      "\n",
      "  Excerpt from a poetry on The Romance of The Three Kingdoms (a Chinese\n",
      "  classic 'San Gua'):\n",
      "\n",
      "  [----------------------------|------------------------]\n",
      "    ๏ แผ่นดินฮั่นเสื่อมโทรมแสนสังเวช  พระปกเกศกองบู๊กู้ขึ้นใหม่\n",
      "  สิบสองกษัตริย์ก่อนหน้าแลถัดไป       สององค์ไซร้โง่เขลาเบาปัญญา\n",
      "    ทรงนับถือขันทีเป็นที่พึ่ง           บ้านเมืองจึงวิปริตเป็นนักหนา\n",
      "  โฮจิ๋นเรียกทัพทั่วหัวเมืองมา         หมายจะฆ่ามดชั่วตัวสำคัญ\n",
      "    เหมือนขับไสไล่เสือจากเคหา      รับหมาป่าเข้ามาเลยอาสัญ\n",
      "  ฝ่ายอ้องอุ้นยุแยกให้แตกกัน          ใช้สาวนั้นเป็นชนวนชื่นชวนใจ\n",
      "    พลันลิฉุยกุยกีกลับก่อเหตุ          ช่างอาเพศจริงหนาฟ้าร้องไห้\n",
      "  ต้องรบราฆ่าฟันจนบรรลัย           ฤๅหาใครค้ำชูกู้บรรลังก์ ฯ\n",
      "\n",
      "  (The above is a two-column text. If combining characters are handled\n",
      "  correctly, the lines of the second column should be aligned with the\n",
      "  | character above.)\n",
      "\n",
      "Ethiopian:\n",
      "\n",
      "  Proverbs in the Amharic language:\n",
      "\n",
      "  ሰማይ አይታረስ ንጉሥ አይከሰስ።\n",
      "  ብላ ካለኝ እንደአባቴ በቆመጠኝ።\n",
      "  ጌጥ ያለቤቱ ቁምጥና ነው።\n",
      "  ደሀ በሕልሙ ቅቤ ባይጠጣ ንጣት በገደለው።\n",
      "  የአፍ ወለምታ በቅቤ አይታሽም።\n",
      "  አይጥ በበላ ዳዋ ተመታ።\n",
      "  ሲተረጉሙ ይደረግሙ።\n",
      "  ቀስ በቀስ፥ ዕንቁላል በእግሩ ይሄዳል።\n",
      "  ድር ቢያብር አንበሳ ያስር።\n",
      "  ሰው እንደቤቱ እንጅ እንደ ጉረቤቱ አይተዳደርም።\n",
      "  እግዜር የከፈተውን ጉሮሮ ሳይዘጋው አይድርም።\n",
      "  የጎረቤት ሌባ፥ ቢያዩት ይስቅ ባያዩት ያጠልቅ።\n",
      "  ሥራ ከመፍታት ልጄን ላፋታት።\n",
      "  ዓባይ ማደሪያ የለው፥ ግንድ ይዞ ይዞራል።\n",
      "  የእስላም አገሩ መካ የአሞራ አገሩ ዋርካ።\n",
      "  ተንጋሎ ቢተፉ ተመልሶ ባፉ።\n",
      "  ወዳጅህ ማር ቢሆን ጨርስህ አትላሰው።\n",
      "  እግርህን በፍራሽህ ልክ ዘርጋ።\n",
      "\n",
      "Runes:\n",
      "\n",
      "  ᚻᛖ ᚳᚹᚫᚦ ᚦᚫᛏ ᚻᛖ ᛒᚢᛞᛖ ᚩᚾ ᚦᚫᛗ ᛚᚪᚾᛞᛖ ᚾᚩᚱᚦᚹᛖᚪᚱᛞᚢᛗ ᚹᛁᚦ ᚦᚪ ᚹᛖᛥᚫ\n",
      "\n",
      "  (Old English, which transcribed into Latin reads 'He cwaeth that he\n",
      "  bude thaem lande northweardum with tha Westsae.' and means 'He said\n",
      "  that he lived in the northern land near the Western Sea.')\n",
      "\n",
      "Braille:\n",
      "\n",
      "  ⡌⠁⠧⠑ ⠼⠁⠒  ⡍⠜⠇⠑⠹⠰⠎ ⡣⠕⠌\n",
      "\n",
      "  ⡍⠜⠇⠑⠹ ⠺⠁⠎ ⠙⠑⠁⠙⠒ ⠞⠕ ⠃⠑⠛⠔ ⠺⠊⠹⠲ ⡹⠻⠑ ⠊⠎ ⠝⠕ ⠙⠳⠃⠞\n",
      "  ⠱⠁⠞⠑⠧⠻ ⠁⠃⠳⠞ ⠹⠁⠞⠲ ⡹⠑ ⠗⠑⠛⠊⠌⠻ ⠕⠋ ⠙⠊⠎ ⠃⠥⠗⠊⠁⠇ ⠺⠁⠎\n",
      "  ⠎⠊⠛⠝⠫ ⠃⠹ ⠹⠑ ⠊⠇⠻⠛⠹⠍⠁⠝⠂ ⠹⠑ ⠊⠇⠻⠅⠂ ⠹⠑ ⠥⠝⠙⠻⠞⠁⠅⠻⠂\n",
      "  ⠁⠝⠙ ⠹⠑ ⠡⠊⠑⠋ ⠍⠳⠗⠝⠻⠲ ⡎⠊⠗⠕⠕⠛⠑ ⠎⠊⠛⠝⠫ ⠊⠞⠲ ⡁⠝⠙\n",
      "  ⡎⠊⠗⠕⠕⠛⠑⠰⠎ ⠝⠁⠍⠑ ⠺⠁⠎ ⠛⠕⠕⠙ ⠥⠏⠕⠝ ⠰⡡⠁⠝⠛⠑⠂ ⠋⠕⠗ ⠁⠝⠹⠹⠔⠛ ⠙⠑ \n",
      "  ⠡⠕⠎⠑ ⠞⠕ ⠏⠥⠞ ⠙⠊⠎ ⠙⠁⠝⠙ ⠞⠕⠲\n",
      "\n",
      "  ⡕⠇⠙ ⡍⠜⠇⠑⠹ ⠺⠁⠎ ⠁⠎ ⠙⠑⠁⠙ ⠁⠎ ⠁ ⠙⠕⠕⠗⠤⠝⠁⠊⠇⠲\n",
      "\n",
      "  ⡍⠔⠙⠖ ⡊ ⠙⠕⠝⠰⠞ ⠍⠑⠁⠝ ⠞⠕ ⠎⠁⠹ ⠹⠁⠞ ⡊ ⠅⠝⠪⠂ ⠕⠋ ⠍⠹\n",
      "  ⠪⠝ ⠅⠝⠪⠇⠫⠛⠑⠂ ⠱⠁⠞ ⠹⠻⠑ ⠊⠎ ⠏⠜⠞⠊⠊⠥⠇⠜⠇⠹ ⠙⠑⠁⠙ ⠁⠃⠳⠞\n",
      "  ⠁ ⠙⠕⠕⠗⠤⠝⠁⠊⠇⠲ ⡊ ⠍⠊⠣⠞ ⠙⠁⠧⠑ ⠃⠑⠲ ⠔⠊⠇⠔⠫⠂ ⠍⠹⠎⠑⠇⠋⠂ ⠞⠕\n",
      "  ⠗⠑⠛⠜⠙ ⠁ ⠊⠕⠋⠋⠔⠤⠝⠁⠊⠇ ⠁⠎ ⠹⠑ ⠙⠑⠁⠙⠑⠌ ⠏⠊⠑⠊⠑ ⠕⠋ ⠊⠗⠕⠝⠍⠕⠝⠛⠻⠹ \n",
      "  ⠔ ⠹⠑ ⠞⠗⠁⠙⠑⠲ ⡃⠥⠞ ⠹⠑ ⠺⠊⠎⠙⠕⠍ ⠕⠋ ⠳⠗ ⠁⠝⠊⠑⠌⠕⠗⠎ \n",
      "  ⠊⠎ ⠔ ⠹⠑ ⠎⠊⠍⠊⠇⠑⠆ ⠁⠝⠙ ⠍⠹ ⠥⠝⠙⠁⠇⠇⠪⠫ ⠙⠁⠝⠙⠎\n",
      "  ⠩⠁⠇⠇ ⠝⠕⠞ ⠙⠊⠌⠥⠗⠃ ⠊⠞⠂ ⠕⠗ ⠹⠑ ⡊⠳⠝⠞⠗⠹⠰⠎ ⠙⠕⠝⠑ ⠋⠕⠗⠲ ⡹⠳\n",
      "  ⠺⠊⠇⠇ ⠹⠻⠑⠋⠕⠗⠑ ⠏⠻⠍⠊⠞ ⠍⠑ ⠞⠕ ⠗⠑⠏⠑⠁⠞⠂ ⠑⠍⠏⠙⠁⠞⠊⠊⠁⠇⠇⠹⠂ ⠹⠁⠞\n",
      "  ⡍⠜⠇⠑⠹ ⠺⠁⠎ ⠁⠎ ⠙⠑⠁⠙ ⠁⠎ ⠁ ⠙⠕⠕⠗⠤⠝⠁⠊⠇⠲\n",
      "\n",
      "  (The first couple of paragraphs of \"A Christmas Carol\" by Dickens)\n",
      "\n",
      "Compact font selection example text:\n",
      "\n",
      "  ABCDEFGHIJKLMNOPQRSTUVWXYZ /0123456789\n",
      "  abcdefghijklmnopqrstuvwxyz £©µÀÆÖÞßéöÿ\n",
      "  –—‘“”„†•…‰™œŠŸž€ ΑΒΓΔΩαβγδω АБВГДабвгд\n",
      "  ∀∂∈ℝ∧∪≡∞ ↑↗↨↻⇣ ┐┼╔╘░►☺♀ ﬁ�⑀₂ἠḂӥẄɐː⍎אԱა\n",
      "\n",
      "Greetings in various languages:\n",
      "\n",
      "  Hello world, Καλημέρα κόσμε, コンニチハ\n",
      "\n",
      "Box drawing alignment tests:                                          █\n",
      "                                                                      ▉\n",
      "  ╔══╦══╗  ┌──┬──┐  ╭──┬──╮  ╭──┬──╮  ┏━━┳━━┓  ┎┒┏┑   ╷  ╻ ┏┯┓ ┌┰┐    ▊ ╱╲╱╲╳╳╳\n",
      "  ║┌─╨─┐║  │╔═╧═╗│  │╒═╪═╕│  │╓─╁─╖│  ┃┌─╂─┐┃  ┗╃╄┙  ╶┼╴╺╋╸┠┼┨ ┝╋┥    ▋ ╲╱╲╱╳╳╳\n",
      "  ║│╲ ╱│║  │║   ║│  ││ │ ││  │║ ┃ ║│  ┃│ ╿ │┃  ┍╅╆┓   ╵  ╹ ┗┷┛ └┸┘    ▌ ╱╲╱╲╳╳╳\n",
      "  ╠╡ ╳ ╞╣  ├╢   ╟┤  ├┼─┼─┼┤  ├╫─╂─╫┤  ┣┿╾┼╼┿┫  ┕┛┖┚     ┌┄┄┐ ╎ ┏┅┅┓ ┋ ▍ ╲╱╲╱╳╳╳\n",
      "  ║│╱ ╲│║  │║   ║│  ││ │ ││  │║ ┃ ║│  ┃│ ╽ │┃  ░░▒▒▓▓██ ┊  ┆ ╎ ╏  ┇ ┋ ▎\n",
      "  ║└─╥─┘║  │╚═╤═╝│  │╘═╪═╛│  │╙─╀─╜│  ┃└─╂─┘┃  ░░▒▒▓▓██ ┊  ┆ ╎ ╏  ┇ ┋ ▏\n",
      "  ╚══╩══╝  └──┴──┘  ╰──┴──╯  ╰──┴──╯  ┗━━┻━━┛           └╌╌┘ ╎ ┗╍╍┛ ┋  ▁▂▃▄▅▆▇█\n",
      "\n",
      "\n"
     ]
    }
   ],
   "source": [
    "with open('data/unicode-bsp.txt', encoding=\"utf-8\") as f:\n",
    "    print(f.read())"
   ]
  },
  {
   "cell_type": "code",
   "execution_count": null,
   "metadata": {
    "collapsed": false,
    "pycharm": {
     "name": "#%%\n"
    }
   },
   "outputs": [],
   "source": []
  },
  {
   "cell_type": "markdown",
   "metadata": {
    "collapsed": false,
    "pycharm": {
     "name": "#%% md\n"
    }
   },
   "source": [
    "## Einlesen von JSON\n",
    "\n",
    "JavaScript Object Notation - quasi Dictionaries in Dateien"
   ]
  },
  {
   "cell_type": "code",
   "execution_count": 24,
   "metadata": {
    "collapsed": false,
    "pycharm": {
     "name": "#%%\n"
    }
   },
   "outputs": [
    {
     "name": "stdout",
     "output_type": "stream",
     "text": [
      "{'Title': 'Bicentennial Man', 'Release Date': 'Dec 17 1999', 'MPAA Rating': 'PG', 'Running Time min': 132, 'Distributor': 'Walt Disney Pictures', 'Source': 'Based on Book/Short Story', 'Major Genre': 'Drama', 'Creative Type': 'Science Fiction', 'Director': 'Chris Columbus', 'Rotten Tomatoes Rating': 38, 'IMDB Rating': 6.4, 'IMDB Votes': 28827}\n"
     ]
    }
   ],
   "source": [
    "import json\n",
    "with open('data/movie.json') as f:\n",
    "    content = json.load(f)\n",
    "    print(content)"
   ]
  },
  {
   "cell_type": "code",
   "execution_count": 25,
   "metadata": {
    "collapsed": false,
    "pycharm": {
     "name": "#%%\n"
    }
   },
   "outputs": [
    {
     "name": "stdout",
     "output_type": "stream",
     "text": [
      "Bicentennial Man directed by Chris Columbus\n"
     ]
    }
   ],
   "source": [
    "print(f\"{content['Title']} directed by {content['Director']}\")"
   ]
  }
 ],
 "metadata": {
  "kernelspec": {
   "display_name": "Python 3.10.4 ('.venv': venv)",
   "language": "python",
   "name": "python3"
  },
  "language_info": {
   "codemirror_mode": {
    "name": "ipython",
    "version": 3
   },
   "file_extension": ".py",
   "mimetype": "text/x-python",
   "name": "python",
   "nbconvert_exporter": "python",
   "pygments_lexer": "ipython3",
   "version": "3.10.4 (tags/v3.10.4:9d38120, Mar 23 2022, 23:13:41) [MSC v.1929 64 bit (AMD64)]"
  },
  "vscode": {
   "interpreter": {
    "hash": "511f98252977769337e6ede8befacc6974cba65790423b61aaa108af8e2092b5"
   }
  }
 },
 "nbformat": 4,
 "nbformat_minor": 0
}
