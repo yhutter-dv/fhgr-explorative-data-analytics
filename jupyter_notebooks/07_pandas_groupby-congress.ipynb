{
 "cells": [
  {
   "cell_type": "markdown",
   "metadata": {
    "collapsed": false,
    "pycharm": {
     "name": "#%% md\n"
    }
   },
   "source": [
    "# Datengruppierung in pandas\n",
    "## pandas groupby"
   ]
  },
  {
   "cell_type": "markdown",
   "metadata": {
    "collapsed": false,
    "pycharm": {
     "name": "#%% md\n"
    }
   },
   "source": []
  },
  {
   "cell_type": "code",
   "execution_count": 2,
   "metadata": {
    "collapsed": false,
    "pycharm": {
     "name": "#%%\n"
    }
   },
   "outputs": [
    {
     "data": {
      "text/html": [
       "<div>\n",
       "<style scoped>\n",
       "    .dataframe tbody tr th:only-of-type {\n",
       "        vertical-align: middle;\n",
       "    }\n",
       "\n",
       "    .dataframe tbody tr th {\n",
       "        vertical-align: top;\n",
       "    }\n",
       "\n",
       "    .dataframe thead th {\n",
       "        text-align: right;\n",
       "    }\n",
       "</style>\n",
       "<table border=\"1\" class=\"dataframe\">\n",
       "  <thead>\n",
       "    <tr style=\"text-align: right;\">\n",
       "      <th></th>\n",
       "      <th>last_name</th>\n",
       "      <th>first_name</th>\n",
       "      <th>birthday</th>\n",
       "      <th>gender</th>\n",
       "      <th>type</th>\n",
       "      <th>state</th>\n",
       "      <th>party</th>\n",
       "    </tr>\n",
       "  </thead>\n",
       "  <tbody>\n",
       "    <tr>\n",
       "      <th>0</th>\n",
       "      <td>Bassett</td>\n",
       "      <td>Richard</td>\n",
       "      <td>1745-04-02</td>\n",
       "      <td>M</td>\n",
       "      <td>sen</td>\n",
       "      <td>DE</td>\n",
       "      <td>Anti-Administration</td>\n",
       "    </tr>\n",
       "    <tr>\n",
       "      <th>1</th>\n",
       "      <td>Bland</td>\n",
       "      <td>Theodorick</td>\n",
       "      <td>1742-03-21</td>\n",
       "      <td>M</td>\n",
       "      <td>rep</td>\n",
       "      <td>VA</td>\n",
       "      <td>NaN</td>\n",
       "    </tr>\n",
       "    <tr>\n",
       "      <th>2</th>\n",
       "      <td>Burke</td>\n",
       "      <td>Aedanus</td>\n",
       "      <td>1743-06-16</td>\n",
       "      <td>M</td>\n",
       "      <td>rep</td>\n",
       "      <td>SC</td>\n",
       "      <td>NaN</td>\n",
       "    </tr>\n",
       "    <tr>\n",
       "      <th>3</th>\n",
       "      <td>Carroll</td>\n",
       "      <td>Daniel</td>\n",
       "      <td>1730-07-22</td>\n",
       "      <td>M</td>\n",
       "      <td>rep</td>\n",
       "      <td>MD</td>\n",
       "      <td>NaN</td>\n",
       "    </tr>\n",
       "    <tr>\n",
       "      <th>4</th>\n",
       "      <td>Clymer</td>\n",
       "      <td>George</td>\n",
       "      <td>1739-03-16</td>\n",
       "      <td>M</td>\n",
       "      <td>rep</td>\n",
       "      <td>PA</td>\n",
       "      <td>NaN</td>\n",
       "    </tr>\n",
       "  </tbody>\n",
       "</table>\n",
       "</div>"
      ],
      "text/plain": [
       "  last_name  first_name   birthday gender type state                party\n",
       "0   Bassett     Richard 1745-04-02      M  sen    DE  Anti-Administration\n",
       "1     Bland  Theodorick 1742-03-21      M  rep    VA                  NaN\n",
       "2     Burke     Aedanus 1743-06-16      M  rep    SC                  NaN\n",
       "3   Carroll      Daniel 1730-07-22      M  rep    MD                  NaN\n",
       "4    Clymer      George 1739-03-16      M  rep    PA                  NaN"
      ]
     },
     "execution_count": 2,
     "metadata": {},
     "output_type": "execute_result"
    }
   ],
   "source": [
    "import pandas as pd\n",
    "\n",
    "# Beispiel für das Importieren von CSV mit zahlreichen Anpassungen\n",
    "dtypes = {\n",
    "    \"first_name\": \"category\",\n",
    "    \"gender\": \"category\",\n",
    "    \"type\": \"category\",\n",
    "    \"state\": \"category\",\n",
    "    \"party\": \"category\",\n",
    "}  # es lassen sich nicht nur die Namen vorgeben, sondern auch die gewünschten Datentypen\n",
    "\n",
    "df = pd.read_csv(\n",
    "    \"data/legislators-historical.csv\",\n",
    "    dtype=dtypes,\n",
    "    usecols=list(dtypes) + [\"birthday\", \"last_name\"],\n",
    "    parse_dates=[\"birthday\"]  # auch Datumswerte können angepasst werden\n",
    ")\n",
    "\n",
    "df.head()"
   ]
  },
  {
   "cell_type": "code",
   "execution_count": 3,
   "metadata": {
    "collapsed": false,
    "pycharm": {
     "name": "#%%\n"
    }
   },
   "outputs": [
    {
     "name": "stdout",
     "output_type": "stream",
     "text": [
      "<class 'pandas.core.frame.DataFrame'>\n",
      "RangeIndex: 12060 entries, 0 to 12059\n",
      "Data columns (total 7 columns):\n",
      " #   Column      Non-Null Count  Dtype         \n",
      "---  ------      --------------  -----         \n",
      " 0   last_name   12060 non-null  object        \n",
      " 1   first_name  12060 non-null  category      \n",
      " 2   birthday    11510 non-null  datetime64[ns]\n",
      " 3   gender      12060 non-null  category      \n",
      " 4   type        12060 non-null  category      \n",
      " 5   state       12060 non-null  category      \n",
      " 6   party       11828 non-null  category      \n",
      "dtypes: category(5), datetime64[ns](1), object(1)\n",
      "memory usage: 309.0+ KB\n"
     ]
    }
   ],
   "source": [
    "df.info()"
   ]
  },
  {
   "cell_type": "code",
   "execution_count": 4,
   "metadata": {
    "collapsed": false,
    "pycharm": {
     "name": "#%%\n"
    }
   },
   "outputs": [
    {
     "data": {
      "text/plain": [
       "<pandas.core.groupby.generic.DataFrameGroupBy object at 0x000002BD7C1DA500>"
      ]
     },
     "execution_count": 4,
     "metadata": {},
     "output_type": "execute_result"
    }
   ],
   "source": [
    "# probieren wir es mal aus...\n",
    "df.groupby(\"state\")"
   ]
  },
  {
   "cell_type": "code",
   "execution_count": 5,
   "metadata": {
    "collapsed": false,
    "pycharm": {
     "name": "#%%\n"
    }
   },
   "outputs": [
    {
     "data": {
      "text/plain": [
       "<pandas.core.groupby.generic.SeriesGroupBy object at 0x000002BD7C5445B0>"
      ]
     },
     "execution_count": 5,
     "metadata": {},
     "output_type": "execute_result"
    }
   ],
   "source": [
    "# Mmh, vielleicht auf eine Spalte zugreifen?\n",
    "df.groupby(\"state\")[\"last_name\"]"
   ]
  },
  {
   "cell_type": "code",
   "execution_count": 6,
   "metadata": {
    "collapsed": false,
    "pycharm": {
     "name": "#%%\n"
    }
   },
   "outputs": [
    {
     "data": {
      "text/plain": [
       "state\n",
       "AK      17\n",
       "AL     209\n",
       "AR     117\n",
       "AS       2\n",
       "AZ      49\n",
       "CA     368\n",
       "CO      92\n",
       "CT     240\n",
       "DC       2\n",
       "DE      97\n",
       "DK       9\n",
       "FL     163\n",
       "GA     317\n",
       "GU       4\n",
       "HI      24\n",
       "IA     205\n",
       "ID      59\n",
       "IL     488\n",
       "IN     344\n",
       "KS     143\n",
       "KY     373\n",
       "LA     199\n",
       "MA     427\n",
       "MD     305\n",
       "ME     175\n",
       "MI     296\n",
       "MN     162\n",
       "MO     334\n",
       "MS     155\n",
       "MT      53\n",
       "NC     356\n",
       "ND      44\n",
       "NE     128\n",
       "NH     181\n",
       "NJ     359\n",
       "NM      57\n",
       "NV      56\n",
       "NY    1469\n",
       "OH     676\n",
       "OK      93\n",
       "OL       2\n",
       "OR      90\n",
       "PA    1053\n",
       "PI      13\n",
       "PR      19\n",
       "RI     107\n",
       "SC     251\n",
       "SD      51\n",
       "TN     301\n",
       "TX     264\n",
       "UT      55\n",
       "VA     434\n",
       "VI       4\n",
       "VT     115\n",
       "WA      96\n",
       "WI     198\n",
       "WV     120\n",
       "WY      40\n",
       "Name: last_name, dtype: int64"
      ]
     },
     "execution_count": 6,
     "metadata": {},
     "output_type": "execute_result"
    }
   ],
   "source": [
    "# auch nicht - was können wir denn mit gruppierten Daten anfangen?\n",
    "df.groupby(\"state\")[\"last_name\"].count()"
   ]
  },
  {
   "cell_type": "markdown",
   "metadata": {
    "collapsed": false,
    "pycharm": {
     "name": "#%% md\n"
    }
   },
   "source": [
    "Zur Erläuterung:\n",
    "Der Methode _groupby_ wird die Spalte (oder die Spalten) übergeben, nach der gruppiert (angeordnet/aggregiert) werden soll, danach wird eine Spalte (oder mehrere) angegeben, auf der/denen die eigentliche Gruppierung durchgeführt werden soll."
   ]
  },
  {
   "cell_type": "code",
   "execution_count": 13,
   "metadata": {
    "collapsed": false,
    "pycharm": {
     "name": "#%%\n"
    }
   },
   "outputs": [
    {
     "data": {
      "text/html": [
       "<div>\n",
       "<style scoped>\n",
       "    .dataframe tbody tr th:only-of-type {\n",
       "        vertical-align: middle;\n",
       "    }\n",
       "\n",
       "    .dataframe tbody tr th {\n",
       "        vertical-align: top;\n",
       "    }\n",
       "\n",
       "    .dataframe thead th {\n",
       "        text-align: right;\n",
       "    }\n",
       "</style>\n",
       "<table border=\"1\" class=\"dataframe\">\n",
       "  <thead>\n",
       "    <tr style=\"text-align: right;\">\n",
       "      <th></th>\n",
       "      <th>last_name</th>\n",
       "      <th>first_name</th>\n",
       "      <th>birthday</th>\n",
       "      <th>type</th>\n",
       "      <th>state</th>\n",
       "      <th>party</th>\n",
       "    </tr>\n",
       "    <tr>\n",
       "      <th>gender</th>\n",
       "      <th></th>\n",
       "      <th></th>\n",
       "      <th></th>\n",
       "      <th></th>\n",
       "      <th></th>\n",
       "      <th></th>\n",
       "    </tr>\n",
       "  </thead>\n",
       "  <tbody>\n",
       "    <tr>\n",
       "      <th>F</th>\n",
       "      <td>249</td>\n",
       "      <td>249</td>\n",
       "      <td>249</td>\n",
       "      <td>249</td>\n",
       "      <td>249</td>\n",
       "      <td>249</td>\n",
       "    </tr>\n",
       "    <tr>\n",
       "      <th>M</th>\n",
       "      <td>11811</td>\n",
       "      <td>11811</td>\n",
       "      <td>11261</td>\n",
       "      <td>11811</td>\n",
       "      <td>11811</td>\n",
       "      <td>11579</td>\n",
       "    </tr>\n",
       "  </tbody>\n",
       "</table>\n",
       "</div>"
      ],
      "text/plain": [
       "        last_name  first_name  birthday   type  state  party\n",
       "gender                                                      \n",
       "F             249         249       249    249    249    249\n",
       "M           11811       11811     11261  11811  11811  11579"
      ]
     },
     "execution_count": 13,
     "metadata": {},
     "output_type": "execute_result"
    }
   ],
   "source": [
    "df.groupby(\"gender\").count()"
   ]
  },
  {
   "cell_type": "markdown",
   "metadata": {
    "collapsed": false,
    "pycharm": {
     "name": "#%% md\n"
    }
   },
   "source": [
    "wird keine Einschränkung angegeben, wird auf dem ganzen Dataframe gearbeitet"
   ]
  },
  {
   "cell_type": "code",
   "execution_count": 14,
   "metadata": {
    "collapsed": false,
    "pycharm": {
     "name": "#%%\n"
    }
   },
   "outputs": [
    {
     "data": {
      "text/plain": [
       "state  gender\n",
       "AK     F           0\n",
       "       M          17\n",
       "AL     F           4\n",
       "       M         205\n",
       "AR     F           5\n",
       "                ... \n",
       "WI     M         198\n",
       "WV     F           1\n",
       "       M         119\n",
       "WY     F           1\n",
       "       M          39\n",
       "Name: last_name, Length: 116, dtype: int64"
      ]
     },
     "execution_count": 14,
     "metadata": {},
     "output_type": "execute_result"
    }
   ],
   "source": [
    "df.groupby([\"state\", \"gender\"]).last_name.count()"
   ]
  },
  {
   "cell_type": "markdown",
   "metadata": {
    "collapsed": false,
    "pycharm": {
     "name": "#%% md\n"
    }
   },
   "source": [
    "Wenn sie genau auf die Ausgabe schauen, sehen sie, dass _state_ und _gender_ hier Indizes sind (genauer: ein Multi-Index), keine eigenen Spalten.\n",
    "Das kann gewünscht sein oder auch nicht, man kann es einstellen:"
   ]
  },
  {
   "cell_type": "code",
   "execution_count": 17,
   "metadata": {
    "collapsed": false,
    "pycharm": {
     "name": "#%%\n"
    }
   },
   "outputs": [
    {
     "data": {
      "text/html": [
       "<div>\n",
       "<style scoped>\n",
       "    .dataframe tbody tr th:only-of-type {\n",
       "        vertical-align: middle;\n",
       "    }\n",
       "\n",
       "    .dataframe tbody tr th {\n",
       "        vertical-align: top;\n",
       "    }\n",
       "\n",
       "    .dataframe thead th {\n",
       "        text-align: right;\n",
       "    }\n",
       "</style>\n",
       "<table border=\"1\" class=\"dataframe\">\n",
       "  <thead>\n",
       "    <tr style=\"text-align: right;\">\n",
       "      <th></th>\n",
       "      <th>state</th>\n",
       "      <th>gender</th>\n",
       "      <th>last_name</th>\n",
       "    </tr>\n",
       "  </thead>\n",
       "  <tbody>\n",
       "    <tr>\n",
       "      <th>0</th>\n",
       "      <td>AK</td>\n",
       "      <td>F</td>\n",
       "      <td>0</td>\n",
       "    </tr>\n",
       "    <tr>\n",
       "      <th>1</th>\n",
       "      <td>AK</td>\n",
       "      <td>M</td>\n",
       "      <td>17</td>\n",
       "    </tr>\n",
       "    <tr>\n",
       "      <th>2</th>\n",
       "      <td>AL</td>\n",
       "      <td>F</td>\n",
       "      <td>4</td>\n",
       "    </tr>\n",
       "    <tr>\n",
       "      <th>3</th>\n",
       "      <td>AL</td>\n",
       "      <td>M</td>\n",
       "      <td>205</td>\n",
       "    </tr>\n",
       "    <tr>\n",
       "      <th>4</th>\n",
       "      <td>AR</td>\n",
       "      <td>F</td>\n",
       "      <td>5</td>\n",
       "    </tr>\n",
       "    <tr>\n",
       "      <th>...</th>\n",
       "      <td>...</td>\n",
       "      <td>...</td>\n",
       "      <td>...</td>\n",
       "    </tr>\n",
       "    <tr>\n",
       "      <th>111</th>\n",
       "      <td>WI</td>\n",
       "      <td>M</td>\n",
       "      <td>198</td>\n",
       "    </tr>\n",
       "    <tr>\n",
       "      <th>112</th>\n",
       "      <td>WV</td>\n",
       "      <td>F</td>\n",
       "      <td>1</td>\n",
       "    </tr>\n",
       "    <tr>\n",
       "      <th>113</th>\n",
       "      <td>WV</td>\n",
       "      <td>M</td>\n",
       "      <td>119</td>\n",
       "    </tr>\n",
       "    <tr>\n",
       "      <th>114</th>\n",
       "      <td>WY</td>\n",
       "      <td>F</td>\n",
       "      <td>1</td>\n",
       "    </tr>\n",
       "    <tr>\n",
       "      <th>115</th>\n",
       "      <td>WY</td>\n",
       "      <td>M</td>\n",
       "      <td>39</td>\n",
       "    </tr>\n",
       "  </tbody>\n",
       "</table>\n",
       "<p>116 rows × 3 columns</p>\n",
       "</div>"
      ],
      "text/plain": [
       "    state gender  last_name\n",
       "0      AK      F          0\n",
       "1      AK      M         17\n",
       "2      AL      F          4\n",
       "3      AL      M        205\n",
       "4      AR      F          5\n",
       "..    ...    ...        ...\n",
       "111    WI      M        198\n",
       "112    WV      F          1\n",
       "113    WV      M        119\n",
       "114    WY      F          1\n",
       "115    WY      M         39\n",
       "\n",
       "[116 rows x 3 columns]"
      ]
     },
     "execution_count": 17,
     "metadata": {},
     "output_type": "execute_result"
    }
   ],
   "source": [
    "df.groupby([\"state\", \"gender\"], as_index=False)[\"last_name\"].count()"
   ]
  },
  {
   "cell_type": "markdown",
   "metadata": {
    "collapsed": false,
    "pycharm": {
     "name": "#%% md\n"
    }
   },
   "source": [
    "Groupby sortiert automatisch:"
   ]
  },
  {
   "cell_type": "code",
   "execution_count": 18,
   "metadata": {
    "collapsed": false,
    "pycharm": {
     "name": "#%%\n"
    }
   },
   "outputs": [
    {
     "data": {
      "text/plain": [
       "state  gender\n",
       "DE     M          97\n",
       "       F           0\n",
       "VA     M         430\n",
       "       F           4\n",
       "SC     M         246\n",
       "                ... \n",
       "VI     F           1\n",
       "GU     M           3\n",
       "       F           1\n",
       "AS     M           2\n",
       "       F           0\n",
       "Name: last_name, Length: 116, dtype: int64"
      ]
     },
     "execution_count": 18,
     "metadata": {},
     "output_type": "execute_result"
    }
   ],
   "source": [
    "df.groupby([\"state\", \"gender\"], sort=False).last_name.count()"
   ]
  },
  {
   "cell_type": "markdown",
   "metadata": {
    "collapsed": false,
    "pycharm": {
     "name": "#%% md\n"
    }
   },
   "source": [
    "Wir haben jetzt immer gezählt. Aber was sind denn diese GroupBy-Objekte und warum kann man sie nicht anzeigen?\n",
    "\n",
    "Hintergrund: lazy evaluation. Die Objekte werden erst angelegt, wenn sie wirklich gebraucht werden.\n",
    "Wie war das noch bei yield-Generatoren? Einfach aufrufen:"
   ]
  },
  {
   "cell_type": "code",
   "execution_count": 19,
   "metadata": {
    "collapsed": false,
    "pycharm": {
     "name": "#%%\n"
    }
   },
   "outputs": [
    {
     "name": "stdout",
     "output_type": "stream",
     "text": [
      "First 2 entries for 'AK'\n",
      "------------------------\n",
      "     last_name first_name   birthday gender type state        party\n",
      "6617    Waskey      Frank 1875-04-20      M  rep    AK     Democrat\n",
      "6645      Cale     Thomas 1848-09-17      M  rep    AK  Independent\n",
      "\n",
      "First 2 entries for 'AL'\n",
      "------------------------\n",
      "    last_name first_name   birthday gender type state       party\n",
      "911   Crowell       John 1780-09-18      M  rep    AL  Republican\n",
      "990    Walker       John 1783-08-12      M  sen    AL  Republican\n",
      "\n",
      "First 2 entries for 'AR'\n",
      "------------------------\n",
      "     last_name first_name   birthday gender type state party\n",
      "1000     Bates      James 1788-08-25      M  rep    AR   NaN\n",
      "1278    Conway      Henry 1793-03-18      M  rep    AR   NaN\n",
      "\n",
      "First 2 entries for 'AS'\n",
      "------------------------\n",
      "          last_name first_name   birthday gender type state     party\n",
      "10795         Sunia       Fofó 1937-03-13      M  rep    AS  Democrat\n",
      "11752  Faleomavaega        Eni 1943-08-15      M  rep    AS  Democrat\n",
      "\n",
      "First 2 entries for 'AZ'\n",
      "------------------------\n",
      "     last_name first_name   birthday gender type state       party\n",
      "3672    Poston    Charles 1825-04-20      M  rep    AZ  Republican\n",
      "3723   Goodwin       John 1824-10-18      M  rep    AZ  Republican\n",
      "\n",
      "First 2 entries for 'CA'\n",
      "------------------------\n",
      "     last_name first_name   birthday gender type state        party\n",
      "2648   Gilbert     Edward        NaT      M  rep    CA     Democrat\n",
      "2740    Wright     George 1816-06-04      M  rep    CA  Independent\n",
      "\n",
      "First 2 entries for 'CO'\n",
      "------------------------\n",
      "     last_name first_name   birthday gender type state  \\\n",
      "3612    Bennet      Hiram 1826-09-02      M  rep    CO   \n",
      "3931  Bradford      Allen 1815-07-23      M  rep    CO   \n",
      "\n",
      "                        party  \n",
      "3612  Conservative Republican  \n",
      "3931               Republican  \n",
      "\n",
      "First 2 entries for 'CT'\n",
      "------------------------\n",
      "     last_name first_name   birthday gender type state               party\n",
      "14  Huntington   Benjamin 1736-04-19      M  rep    CT                 NaN\n",
      "16     Johnson    William 1727-10-07      M  sen    CT  Pro-Administration\n",
      "\n",
      "First 2 entries for 'DC'\n",
      "------------------------\n",
      "      last_name first_name   birthday gender type state       party\n",
      "4230    Chipman     Norton 1834-03-07      M  rep    DC  Republican\n",
      "10819  Fauntroy     Walter 1933-02-06      M  rep    DC    Democrat\n",
      "\n",
      "First 2 entries for 'DE'\n",
      "------------------------\n",
      "   last_name first_name   birthday gender type state                party\n",
      "0    Bassett    Richard 1745-04-02      M  sen    DE  Anti-Administration\n",
      "40      Read     George 1733-09-18      M  sen    DE                  NaN\n",
      "\n",
      "First 2 entries for 'DK'\n",
      "------------------------\n",
      "     last_name first_name   birthday gender type state     party\n",
      "3640     Jayne    William 1826-10-08      M  rep    DK       NaN\n",
      "3685      Todd       John 1814-04-04      M  rep    DK  Democrat\n",
      "\n",
      "First 2 entries for 'FL'\n",
      "------------------------\n",
      "      last_name first_name   birthday gender type state party\n",
      "1030  Hernández     Joseph 1788-05-26      M  rep    FL   NaN\n",
      "1089       Call    Richard 1792-10-24      M  rep    FL   NaN\n",
      "\n",
      "First 2 entries for 'GA'\n",
      "------------------------\n",
      "   last_name first_name   birthday gender type state                party\n",
      "8        Few    William 1748-06-08      M  sen    GA  Anti-Administration\n",
      "20   Mathews     George 1739-08-30      M  rep    GA                  NaN\n",
      "\n",
      "First 2 entries for 'GU'\n",
      "------------------------\n",
      "      last_name first_name   birthday gender type state       party\n",
      "10702   Won Pat    Antonio 1908-12-10      M  rep    GU    Democrat\n",
      "10872      Blaz        Ben 1928-02-14      M  rep    GU  Republican\n",
      "\n",
      "First 2 entries for 'HI'\n",
      "------------------------\n",
      "     last_name first_name   birthday gender type state       party\n",
      "6393    Wilcox     Robert 1855-02-15      M  rep    HI         NaN\n",
      "7522   Baldwin      Henry 1871-01-12      M  rep    HI  Republican\n",
      "\n",
      "First 2 entries for 'IA'\n",
      "------------------------\n",
      "     last_name first_name   birthday gender type state     party\n",
      "1930   Chapman    William 1808-08-11      M  rep    IA  Democrat\n",
      "2390  Hastings   Serranus 1813-11-22      M  rep    IA  Democrat\n",
      "\n",
      "First 2 entries for 'ID'\n",
      "------------------------\n",
      "     last_name first_name   birthday gender type state       party\n",
      "3691   Wallace    William 1811-07-19      M  rep    ID  Republican\n",
      "3844  Holbrook     Edward 1836-05-06      M  rep    ID    Democrat\n",
      "\n",
      "First 2 entries for 'IL'\n",
      "------------------------\n",
      "      last_name first_name   birthday gender type state party\n",
      "595        Bond   Shadrack 1773-11-24      M  rep    IL   NaN\n",
      "772  Stephenson   Benjamin        NaT      M  rep    IL   NaN\n",
      "\n",
      "First 2 entries for 'IN'\n",
      "------------------------\n",
      "    last_name first_name   birthday gender type state       party\n",
      "431     Parke   Benjamin 1777-09-22      M  rep    IN         NaN\n",
      "984    Taylor     Waller        NaT      M  sen    IN  Republican\n",
      "\n",
      "First 2 entries for 'KS'\n",
      "------------------------\n",
      "      last_name first_name   birthday gender type state       party\n",
      "3161  Whitfield       John 1818-03-11      M  rep    KS    Democrat\n",
      "3420    Parrott     Marcus 1828-10-27      M  rep    KS  Republican\n",
      "\n",
      "First 2 entries for 'KY'\n",
      "------------------------\n",
      "    last_name   first_name birthday gender type state                party\n",
      "55    Edwards         John      NaT      M  sen    KY  Anti-Administration\n",
      "113   Greenup  Christopher      NaT      M  rep    KY           Republican\n",
      "\n",
      "First 2 entries for 'LA'\n",
      "------------------------\n",
      "     last_name first_name birthday gender type state       party\n",
      "584  Destréhan       Jean      NaT      M  sen    LA     Unknown\n",
      "585   Magruder      Allan      NaT      M  sen    LA  Republican\n",
      "\n",
      "First 2 entries for 'MA'\n",
      "------------------------\n",
      "   last_name first_name   birthday gender type state               party\n",
      "6     Dalton   Tristram 1738-05-28      M  sen    MA  Pro-Administration\n",
      "12     Grout   Jonathan 1737-07-23      M  rep    MA                 NaN\n",
      "\n",
      "First 2 entries for 'MD'\n",
      "------------------------\n",
      "  last_name first_name   birthday gender type state party\n",
      "3   Carroll     Daniel 1730-07-22      M  rep    MD   NaN\n",
      "5    Contee   Benjamin        NaT      M  rep    MD   NaN\n",
      "\n",
      "First 2 entries for 'ME'\n",
      "------------------------\n",
      "     last_name first_name   birthday gender type state       party\n",
      "1018      Dane     Joseph 1778-10-25      M  rep    ME  Federalist\n",
      "1028    Harris       Mark 1779-01-27      M  rep    ME  Republican\n",
      "\n",
      "First 2 entries for 'MI'\n",
      "------------------------\n",
      "     last_name first_name   birthday gender type state party\n",
      "1061    Sibley    Solomon 1769-10-07      M  rep    MI   NaN\n",
      "1132   Richard    Gabriel 1767-10-15      M  rep    MI   NaN\n",
      "\n",
      "First 2 entries for 'MN'\n",
      "------------------------\n",
      "      last_name first_name   birthday gender type state     party\n",
      "2864     Sibley      Henry 1811-02-20      M  rep    MN       NaN\n",
      "3239  Kingsbury    William 1828-06-04      M  rep    MN  Democrat\n",
      "\n",
      "First 2 entries for 'MO'\n",
      "------------------------\n",
      "     last_name first_name   birthday gender type state party\n",
      "627  Hempstead     Edward 1780-06-03      M  rep    MO   NaN\n",
      "712     Easton      Rufus 1774-05-04      M  rep    MO   NaN\n",
      "\n",
      "First 2 entries for 'MS'\n",
      "------------------------\n",
      "    last_name  first_name   birthday gender type state party\n",
      "256    Greene      Thomas 1758-02-26      M  rep    MS   NaN\n",
      "260    Hunter  Narsworthy        NaT      M  rep    MS   NaN\n",
      "\n",
      "First 2 entries for 'MT'\n",
      "------------------------\n",
      "      last_name first_name   birthday gender type state     party\n",
      "3754     McLean     Samuel 1826-08-07      M  rep    MT  Democrat\n",
      "3939  Cavanaugh      James 1823-07-04      M  rep    MT  Democrat\n",
      "\n",
      "First 2 entries for 'NC'\n",
      "------------------------\n",
      "   last_name first_name   birthday gender type state               party\n",
      "13   Hawkins   Benjamin 1754-08-15      M  sen    NC  Pro-Administration\n",
      "17  Johnston     Samuel 1733-12-15      M  sen    NC  Pro-Administration\n",
      "\n",
      "First 2 entries for 'ND'\n",
      "------------------------\n",
      "     last_name first_name   birthday gender type state       party\n",
      "5382     Casey      Lyman 1837-05-06      M  sen    ND  Republican\n",
      "5477    Pierce    Gilbert 1839-01-11      M  sen    ND  Republican\n",
      "\n",
      "First 2 entries for 'NE'\n",
      "------------------------\n",
      "     last_name first_name   birthday gender type state     party\n",
      "2952  Giddings   Napoleon 1816-01-02      M  rep    NE  Democrat\n",
      "3066   Chapman       Bird 1821-08-24      M  rep    NE  Democrat\n",
      "\n",
      "First 2 entries for 'NH'\n",
      "------------------------\n",
      "    last_name first_name   birthday gender type state       party\n",
      "99    Wingate      Paine 1739-05-14      M  rep    NH         NaN\n",
      "120   Langdon       John 1741-06-26      M  sen    NH  Republican\n",
      "\n",
      "First 2 entries for 'NJ'\n",
      "------------------------\n",
      "   last_name first_name   birthday gender type state               party\n",
      "7      Elmer   Jonathan 1745-11-29      M  sen    NJ  Pro-Administration\n",
      "23  Paterson    William 1745-12-24      M  sen    NJ  Pro-Administration\n",
      "\n",
      "First 2 entries for 'NM'\n",
      "------------------------\n",
      "      last_name first_name   birthday gender type state     party\n",
      "2883  Weightman    Richard 1816-12-28      M  rep    NM  Democrat\n",
      "3418      Otero     Miguel 1829-06-21      M  rep    NM       NaN\n",
      "\n",
      "First 2 entries for 'NV'\n",
      "------------------------\n",
      "        last_name first_name   birthday gender type state       party\n",
      "3508  Cradlebaugh       John 1819-02-22      M  rep    NV         NaN\n",
      "3662         Mott     Gordon 1812-10-21      M  rep    NV  Republican\n",
      "\n",
      "First 2 entries for 'NY'\n",
      "------------------------\n",
      "         last_name first_name   birthday gender type state party\n",
      "9            Floyd    William 1734-12-17      M  rep    NY   NaN\n",
      "26  Van Rensselaer   Jeremiah 1738-08-27      M  rep    NY   NaN\n",
      "\n",
      "First 2 entries for 'OH'\n",
      "------------------------\n",
      "    last_name first_name   birthday gender type state       party\n",
      "226  McMillan    William 1764-03-02      M  rep    OH         NaN\n",
      "254   Fearing       Paul 1762-02-28      M  rep    OH  Federalist\n",
      "\n",
      "First 2 entries for 'OK'\n",
      "------------------------\n",
      "     last_name first_name   birthday gender type state        party\n",
      "5599    Harvey      David 1845-03-20      M  rep    OK   Republican\n",
      "6058  Callahan      James 1852-12-19      M  rep    OK  Free Silver\n",
      "\n",
      "First 2 entries for 'OL'\n",
      "------------------------\n",
      "    last_name first_name   birthday gender type state party\n",
      "404     Clark     Daniel        NaT      M  rep    OL   NaN\n",
      "503   Poydras     Julien 1740-04-03      M  rep    OL   NaN\n",
      "\n",
      "First 2 entries for 'OR'\n",
      "------------------------\n",
      "     last_name first_name   birthday gender type state     party\n",
      "2726  Thurston     Samuel 1816-04-15      M  rep    OR  Democrat\n",
      "3396      Lane     Joseph 1801-12-14      M  sen    OR  Democrat\n",
      "\n",
      "First 2 entries for 'PA'\n",
      "------------------------\n",
      "   last_name first_name   birthday gender type state                party\n",
      "4     Clymer     George 1739-03-16      M  rep    PA                  NaN\n",
      "19    Maclay    William 1737-07-20      M  sen    PA  Anti-Administration\n",
      "\n",
      "First 2 entries for 'PI'\n",
      "------------------------\n",
      "             last_name first_name   birthday gender type state party\n",
      "6833            Ocampo      Pablo 1853-01-25      M  rep    PI   NaN\n",
      "6937  Legarda Y Tuason     Benito 1853-09-27      M  rep    PI   NaN\n",
      "\n",
      "First 2 entries for 'PR'\n",
      "------------------------\n",
      "      last_name first_name   birthday gender type state       party\n",
      "6424    Degetau   Federico 1862-12-05      M  rep    PR  Republican\n",
      "6809  Larrinaga      Tulio 1847-01-15      M  rep    PR    Unionist\n",
      "\n",
      "First 2 entries for 'RI'\n",
      "------------------------\n",
      "    last_name first_name   birthday gender type state       party\n",
      "61   Bradford    William 1729-11-04      M  sen    RI  Federalist\n",
      "105    Bourne   Benjamin 1755-09-09      M  rep    RI  Federalist\n",
      "\n",
      "First 2 entries for 'SC'\n",
      "------------------------\n",
      "   last_name first_name   birthday gender type state               party\n",
      "2      Burke    Aedanus 1743-06-16      M  rep    SC                 NaN\n",
      "15     Izard      Ralph        NaT      M  sen    SC  Pro-Administration\n",
      "\n",
      "First 2 entries for 'SD'\n",
      "------------------------\n",
      "     last_name first_name   birthday gender type state       party\n",
      "5421   Gifford      Oscar 1842-10-20      M  rep    SD  Republican\n",
      "5460     Moody     Gideon 1832-10-16      M  sen    SD  Republican\n",
      "\n",
      "First 2 entries for 'TN'\n",
      "------------------------\n",
      "    last_name first_name   birthday gender type state       party\n",
      "141     White      James 1749-06-16      M  rep    TN         NaN\n",
      "142    Blount    William 1749-03-26      M  sen    TN  Republican\n",
      "\n",
      "First 2 entries for 'TX'\n",
      "------------------------\n",
      "     last_name first_name   birthday gender type state     party\n",
      "2567  Pilsbury    Timothy 1789-04-12      M  rep    TX  Democrat\n",
      "2669   Kaufman      David 1813-12-18      M  rep    TX  Democrat\n",
      "\n",
      "First 2 entries for 'UT'\n",
      "------------------------\n",
      "      last_name first_name   birthday gender type state     party\n",
      "3482  Bernhisel       John 1799-07-23      M  rep    UT      Whig\n",
      "3645     Kinney       John 1816-04-02      M  rep    UT  Democrat\n",
      "\n",
      "First 2 entries for 'VA'\n",
      "------------------------\n",
      "   last_name  first_name   birthday gender type state                party\n",
      "1      Bland  Theodorick 1742-03-21      M  rep    VA                  NaN\n",
      "11   Grayson     William        NaT      M  sen    VA  Anti-Administration\n",
      "\n",
      "First 2 entries for 'VI'\n",
      "------------------------\n",
      "      last_name first_name   birthday gender type state       party\n",
      "10494     Evans     Melvin 1917-08-07      M  rep    VI  Republican\n",
      "11086   de Lugo        Ron 1930-08-02      M  rep    VI    Democrat\n",
      "\n",
      "First 2 entries for 'VT'\n",
      "------------------------\n",
      "   last_name first_name   birthday gender type state                party\n",
      "41  Robinson      Moses 1741-03-22      M  sen    VT  Anti-Administration\n",
      "86     Niles  Nathaniel 1741-04-03      M  rep    VT                  NaN\n",
      "\n",
      "First 2 entries for 'WA'\n",
      "------------------------\n",
      "      last_name first_name   birthday gender type state     party\n",
      "2977  Lancaster   Columbia 1803-08-26      M  rep    WA  Democrat\n",
      "3050   Anderson      James 1822-02-16      M  rep    WA  Democrat\n",
      "\n",
      "First 2 entries for 'WI'\n",
      "------------------------\n",
      "     last_name first_name   birthday gender type state     party\n",
      "2409    Martin     Morgan 1805-03-31      M  rep    WI  Democrat\n",
      "2502   Darling      Mason 1801-05-18      M  rep    WI  Democrat\n",
      "\n",
      "First 2 entries for 'WV'\n",
      "------------------------\n",
      "       last_name first_name   birthday gender type state  \\\n",
      "3613       Blair      Jacob 1821-04-11      M  rep    WV   \n",
      "3688  Van Winkle      Peter 1808-09-07      M  sen    WV   \n",
      "\n",
      "                       party  \n",
      "3613  Unconditional Unionist  \n",
      "3688              Republican  \n",
      "\n",
      "First 2 entries for 'WY'\n",
      "------------------------\n",
      "     last_name first_name   birthday gender type state       party\n",
      "4007  Nuckolls    Stephen 1825-08-16      M  rep    WY    Democrat\n",
      "4136     Jones    William 1842-02-20      M  rep    WY  Republican\n",
      "\n"
     ]
    }
   ],
   "source": [
    "for state, frame in df.groupby(\"state\"):\n",
    "    print(f\"First 2 entries for {state!r}\")\n",
    "    print(\"------------------------\")\n",
    "    print(frame.head(2), end=\"\\n\\n\")"
   ]
  },
  {
   "cell_type": "code",
   "execution_count": 22,
   "metadata": {
    "collapsed": false,
    "pycharm": {
     "name": "#%%\n"
    }
   },
   "outputs": [
    {
     "data": {
      "text/plain": [
       "Int64Index([ 2648,  2740,  2745,  2828,  2830,  2899,  3076,  3094,  3182,\n",
       "             3219,\n",
       "            ...\n",
       "            11943, 11970, 11972, 11978, 11987, 12025, 12026, 12027, 12042,\n",
       "            12049],\n",
       "           dtype='int64', length=368)"
      ]
     },
     "execution_count": 22,
     "metadata": {},
     "output_type": "execute_result"
    }
   ],
   "source": [
    "# welche Einträge gehören zu welcher Gruppe?\n",
    "df.groupby(\"state\").groups[\"CA\"]  # California"
   ]
  },
  {
   "cell_type": "code",
   "execution_count": 24,
   "metadata": {
    "collapsed": false,
    "pycharm": {
     "name": "#%%\n"
    }
   },
   "outputs": [
    {
     "data": {
      "text/html": [
       "<div>\n",
       "<style scoped>\n",
       "    .dataframe tbody tr th:only-of-type {\n",
       "        vertical-align: middle;\n",
       "    }\n",
       "\n",
       "    .dataframe tbody tr th {\n",
       "        vertical-align: top;\n",
       "    }\n",
       "\n",
       "    .dataframe thead th {\n",
       "        text-align: right;\n",
       "    }\n",
       "</style>\n",
       "<table border=\"1\" class=\"dataframe\">\n",
       "  <thead>\n",
       "    <tr style=\"text-align: right;\">\n",
       "      <th></th>\n",
       "      <th>last_name</th>\n",
       "      <th>first_name</th>\n",
       "      <th>birthday</th>\n",
       "      <th>gender</th>\n",
       "      <th>type</th>\n",
       "      <th>state</th>\n",
       "      <th>party</th>\n",
       "    </tr>\n",
       "  </thead>\n",
       "  <tbody>\n",
       "    <tr>\n",
       "      <th>2648</th>\n",
       "      <td>Gilbert</td>\n",
       "      <td>Edward</td>\n",
       "      <td>NaT</td>\n",
       "      <td>M</td>\n",
       "      <td>rep</td>\n",
       "      <td>CA</td>\n",
       "      <td>Democrat</td>\n",
       "    </tr>\n",
       "    <tr>\n",
       "      <th>2740</th>\n",
       "      <td>Wright</td>\n",
       "      <td>George</td>\n",
       "      <td>1816-06-04</td>\n",
       "      <td>M</td>\n",
       "      <td>rep</td>\n",
       "      <td>CA</td>\n",
       "      <td>Independent</td>\n",
       "    </tr>\n",
       "    <tr>\n",
       "      <th>2745</th>\n",
       "      <td>Frémont</td>\n",
       "      <td>John</td>\n",
       "      <td>1813-01-21</td>\n",
       "      <td>M</td>\n",
       "      <td>sen</td>\n",
       "      <td>CA</td>\n",
       "      <td>Democrat</td>\n",
       "    </tr>\n",
       "    <tr>\n",
       "      <th>2828</th>\n",
       "      <td>Marshall</td>\n",
       "      <td>Edward</td>\n",
       "      <td>1821-06-29</td>\n",
       "      <td>M</td>\n",
       "      <td>rep</td>\n",
       "      <td>CA</td>\n",
       "      <td>Democrat</td>\n",
       "    </tr>\n",
       "    <tr>\n",
       "      <th>2830</th>\n",
       "      <td>McCorkle</td>\n",
       "      <td>Joseph</td>\n",
       "      <td>1819-06-24</td>\n",
       "      <td>M</td>\n",
       "      <td>rep</td>\n",
       "      <td>CA</td>\n",
       "      <td>Democrat</td>\n",
       "    </tr>\n",
       "  </tbody>\n",
       "</table>\n",
       "</div>"
      ],
      "text/plain": [
       "     last_name first_name   birthday gender type state        party\n",
       "2648   Gilbert     Edward        NaT      M  rep    CA     Democrat\n",
       "2740    Wright     George 1816-06-04      M  rep    CA  Independent\n",
       "2745   Frémont       John 1813-01-21      M  sen    CA     Democrat\n",
       "2828  Marshall     Edward 1821-06-29      M  rep    CA     Democrat\n",
       "2830  McCorkle     Joseph 1819-06-24      M  rep    CA     Democrat"
      ]
     },
     "execution_count": 24,
     "metadata": {},
     "output_type": "execute_result"
    }
   ],
   "source": [
    "# oder direkt auf die Gruppe zugreifen:\n",
    "df.groupby(\"state\").get_group(\"CA\").head()"
   ]
  },
  {
   "cell_type": "markdown",
   "metadata": {
    "collapsed": false,
    "pycharm": {
     "name": "#%% md\n"
    }
   },
   "source": [
    "Beispiele teilweise übernommen aus:\n",
    "https://pandas.pydata.org/pandas-docs/stable/user_guide/groupby.html\n",
    "https://realpython.com/pandas-groupby/\n",
    "Anpassungen HR\n",
    "\n",
    "Datensatz US-Kongress\n",
    "https://github.com/unitedstates/congress-legislators"
   ]
  }
 ],
 "metadata": {
  "kernelspec": {
   "display_name": ".venv",
   "language": "python",
   "name": "python3"
  },
  "language_info": {
   "codemirror_mode": {
    "name": "ipython",
    "version": 2
   },
   "file_extension": ".py",
   "mimetype": "text/x-python",
   "name": "python",
   "nbconvert_exporter": "python",
   "pygments_lexer": "ipython2",
   "version": "3.10.4 (tags/v3.10.4:9d38120, Mar 23 2022, 23:13:41) [MSC v.1929 64 bit (AMD64)]"
  },
  "vscode": {
   "interpreter": {
    "hash": "511f98252977769337e6ede8befacc6974cba65790423b61aaa108af8e2092b5"
   }
  }
 },
 "nbformat": 4,
 "nbformat_minor": 0
}
