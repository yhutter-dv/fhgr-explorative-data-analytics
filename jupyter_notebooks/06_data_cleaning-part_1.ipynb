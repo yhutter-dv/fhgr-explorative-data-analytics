{
 "cells": [
  {
   "cell_type": "markdown",
   "metadata": {
    "collapsed": false,
    "pycharm": {
     "name": "#%% md\n"
    }
   },
   "source": [
    "# Data Cleaning"
   ]
  },
  {
   "cell_type": "markdown",
   "metadata": {
    "collapsed": false,
    "pycharm": {
     "name": "#%% md\n"
    }
   },
   "source": [
    "Unbeliebte, aber absolut notwendige Tätigkeit zwischen Einlesen und Verarbeiten (Analyse, Visualisierung...).\n",
    "\n",
    "Eigentlich die Hauptarbeit des Data Scientists.\n",
    "\n",
    "## Was gehört dazu?\n",
    "\n",
    "* Fehlende Daten (Missing Data)\n",
    "* Inkonsistente Daten (Schreibfehler, Datenfehler, Adressen, Zahlenformate...)\n",
    "* Unnötige Daten: Wiederholungen, Duplikate, usw.\n",
    "* Nicht normgerechte Daten (Ausreisser)"
   ]
  },
  {
   "cell_type": "markdown",
   "metadata": {
    "collapsed": false,
    "pycharm": {
     "name": "#%% md\n"
    }
   },
   "source": [
    "## Warum Data Cleaning?\n",
    "\n",
    "Wir betreiben datengetriebene Wissenschaft. Damit sind wir vollkommen abhängig von der Qualität unserer Daten.\n",
    "\n",
    "Bei allen Verfahren, sei es Visualisierung per Dashboard, Machine Learning, Mining usw. gilt das altbekannte Prinzip:\n",
    "\n",
    "### Garbage in, garbage out\n"
   ]
  },
  {
   "cell_type": "markdown",
   "metadata": {
    "collapsed": false,
    "pycharm": {
     "name": "#%% md\n"
    }
   },
   "source": [
    "### Ab in die Praxis: Datensatz ansehen\n",
    "\n",
    "Beispieldaten: Russian housing market (Quelle: Kaggle)\n",
    "\n",
    "Hinweis: Im Moodle verfügbar, Nutzung über diesen Kurs hinaus nur nach Anmeldung bei Kaggle erlaubt."
   ]
  },
  {
   "cell_type": "code",
   "execution_count": 1,
   "metadata": {
    "collapsed": false,
    "pycharm": {
     "name": "#%%\n"
    }
   },
   "outputs": [
    {
     "name": "stdout",
     "output_type": "stream",
     "text": [
      "<class 'pandas.core.frame.DataFrame'>\n",
      "RangeIndex: 30471 entries, 0 to 30470\n",
      "Data columns (total 292 columns):\n",
      " #    Column                                 Dtype  \n",
      "---   ------                                 -----  \n",
      " 0    id                                     int64  \n",
      " 1    timestamp                              object \n",
      " 2    full_sq                                int64  \n",
      " 3    life_sq                                float64\n",
      " 4    floor                                  float64\n",
      " 5    max_floor                              float64\n",
      " 6    material                               float64\n",
      " 7    build_year                             float64\n",
      " 8    num_room                               float64\n",
      " 9    kitch_sq                               float64\n",
      " 10   state                                  float64\n",
      " 11   product_type                           object \n",
      " 12   sub_area                               object \n",
      " 13   area_m                                 float64\n",
      " 14   raion_popul                            int64  \n",
      " 15   green_zone_part                        float64\n",
      " 16   indust_part                            float64\n",
      " 17   children_preschool                     int64  \n",
      " 18   preschool_quota                        float64\n",
      " 19   preschool_education_centers_raion      int64  \n",
      " 20   children_school                        int64  \n",
      " 21   school_quota                           float64\n",
      " 22   school_education_centers_raion         int64  \n",
      " 23   school_education_centers_top_20_raion  int64  \n",
      " 24   hospital_beds_raion                    float64\n",
      " 25   healthcare_centers_raion               int64  \n",
      " 26   university_top_20_raion                int64  \n",
      " 27   sport_objects_raion                    int64  \n",
      " 28   additional_education_raion             int64  \n",
      " 29   culture_objects_top_25                 object \n",
      " 30   culture_objects_top_25_raion           int64  \n",
      " 31   shopping_centers_raion                 int64  \n",
      " 32   office_raion                           int64  \n",
      " 33   thermal_power_plant_raion              object \n",
      " 34   incineration_raion                     object \n",
      " 35   oil_chemistry_raion                    object \n",
      " 36   radiation_raion                        object \n",
      " 37   railroad_terminal_raion                object \n",
      " 38   big_market_raion                       object \n",
      " 39   nuclear_reactor_raion                  object \n",
      " 40   detention_facility_raion               object \n",
      " 41   full_all                               int64  \n",
      " 42   male_f                                 int64  \n",
      " 43   female_f                               int64  \n",
      " 44   young_all                              int64  \n",
      " 45   young_male                             int64  \n",
      " 46   young_female                           int64  \n",
      " 47   work_all                               int64  \n",
      " 48   work_male                              int64  \n",
      " 49   work_female                            int64  \n",
      " 50   ekder_all                              int64  \n",
      " 51   ekder_male                             int64  \n",
      " 52   ekder_female                           int64  \n",
      " 53   0_6_all                                int64  \n",
      " 54   0_6_male                               int64  \n",
      " 55   0_6_female                             int64  \n",
      " 56   7_14_all                               int64  \n",
      " 57   7_14_male                              int64  \n",
      " 58   7_14_female                            int64  \n",
      " 59   0_17_all                               int64  \n",
      " 60   0_17_male                              int64  \n",
      " 61   0_17_female                            int64  \n",
      " 62   16_29_all                              int64  \n",
      " 63   16_29_male                             int64  \n",
      " 64   16_29_female                           int64  \n",
      " 65   0_13_all                               int64  \n",
      " 66   0_13_male                              int64  \n",
      " 67   0_13_female                            int64  \n",
      " 68   raion_build_count_with_material_info   float64\n",
      " 69   build_count_block                      float64\n",
      " 70   build_count_wood                       float64\n",
      " 71   build_count_frame                      float64\n",
      " 72   build_count_brick                      float64\n",
      " 73   build_count_monolith                   float64\n",
      " 74   build_count_panel                      float64\n",
      " 75   build_count_foam                       float64\n",
      " 76   build_count_slag                       float64\n",
      " 77   build_count_mix                        float64\n",
      " 78   raion_build_count_with_builddate_info  float64\n",
      " 79   build_count_before_1920                float64\n",
      " 80   build_count_1921-1945                  float64\n",
      " 81   build_count_1946-1970                  float64\n",
      " 82   build_count_1971-1995                  float64\n",
      " 83   build_count_after_1995                 float64\n",
      " 84   ID_metro                               int64  \n",
      " 85   metro_min_avto                         float64\n",
      " 86   metro_km_avto                          float64\n",
      " 87   metro_min_walk                         float64\n",
      " 88   metro_km_walk                          float64\n",
      " 89   kindergarten_km                        float64\n",
      " 90   school_km                              float64\n",
      " 91   park_km                                float64\n",
      " 92   green_zone_km                          float64\n",
      " 93   industrial_km                          float64\n",
      " 94   water_treatment_km                     float64\n",
      " 95   cemetery_km                            float64\n",
      " 96   incineration_km                        float64\n",
      " 97   railroad_station_walk_km               float64\n",
      " 98   railroad_station_walk_min              float64\n",
      " 99   ID_railroad_station_walk               float64\n",
      " 100  railroad_station_avto_km               float64\n",
      " 101  railroad_station_avto_min              float64\n",
      " 102  ID_railroad_station_avto               int64  \n",
      " 103  public_transport_station_km            float64\n",
      " 104  public_transport_station_min_walk      float64\n",
      " 105  water_km                               float64\n",
      " 106  water_1line                            object \n",
      " 107  mkad_km                                float64\n",
      " 108  ttk_km                                 float64\n",
      " 109  sadovoe_km                             float64\n",
      " 110  bulvar_ring_km                         float64\n",
      " 111  kremlin_km                             float64\n",
      " 112  big_road1_km                           float64\n",
      " 113  ID_big_road1                           int64  \n",
      " 114  big_road1_1line                        object \n",
      " 115  big_road2_km                           float64\n",
      " 116  ID_big_road2                           int64  \n",
      " 117  railroad_km                            float64\n",
      " 118  railroad_1line                         object \n",
      " 119  zd_vokzaly_avto_km                     float64\n",
      " 120  ID_railroad_terminal                   int64  \n",
      " 121  bus_terminal_avto_km                   float64\n",
      " 122  ID_bus_terminal                        int64  \n",
      " 123  oil_chemistry_km                       float64\n",
      " 124  nuclear_reactor_km                     float64\n",
      " 125  radiation_km                           float64\n",
      " 126  power_transmission_line_km             float64\n",
      " 127  thermal_power_plant_km                 float64\n",
      " 128  ts_km                                  float64\n",
      " 129  big_market_km                          float64\n",
      " 130  market_shop_km                         float64\n",
      " 131  fitness_km                             float64\n",
      " 132  swim_pool_km                           float64\n",
      " 133  ice_rink_km                            float64\n",
      " 134  stadium_km                             float64\n",
      " 135  basketball_km                          float64\n",
      " 136  hospice_morgue_km                      float64\n",
      " 137  detention_facility_km                  float64\n",
      " 138  public_healthcare_km                   float64\n",
      " 139  university_km                          float64\n",
      " 140  workplaces_km                          float64\n",
      " 141  shopping_centers_km                    float64\n",
      " 142  office_km                              float64\n",
      " 143  additional_education_km                float64\n",
      " 144  preschool_km                           float64\n",
      " 145  big_church_km                          float64\n",
      " 146  church_synagogue_km                    float64\n",
      " 147  mosque_km                              float64\n",
      " 148  theater_km                             float64\n",
      " 149  museum_km                              float64\n",
      " 150  exhibition_km                          float64\n",
      " 151  catering_km                            float64\n",
      " 152  ecology                                object \n",
      " 153  green_part_500                         float64\n",
      " 154  prom_part_500                          float64\n",
      " 155  office_count_500                       int64  \n",
      " 156  office_sqm_500                         int64  \n",
      " 157  trc_count_500                          int64  \n",
      " 158  trc_sqm_500                            int64  \n",
      " 159  cafe_count_500                         int64  \n",
      " 160  cafe_sum_500_min_price_avg             float64\n",
      " 161  cafe_sum_500_max_price_avg             float64\n",
      " 162  cafe_avg_price_500                     float64\n",
      " 163  cafe_count_500_na_price                int64  \n",
      " 164  cafe_count_500_price_500               int64  \n",
      " 165  cafe_count_500_price_1000              int64  \n",
      " 166  cafe_count_500_price_1500              int64  \n",
      " 167  cafe_count_500_price_2500              int64  \n",
      " 168  cafe_count_500_price_4000              int64  \n",
      " 169  cafe_count_500_price_high              int64  \n",
      " 170  big_church_count_500                   int64  \n",
      " 171  church_count_500                       int64  \n",
      " 172  mosque_count_500                       int64  \n",
      " 173  leisure_count_500                      int64  \n",
      " 174  sport_count_500                        int64  \n",
      " 175  market_count_500                       int64  \n",
      " 176  green_part_1000                        float64\n",
      " 177  prom_part_1000                         float64\n",
      " 178  office_count_1000                      int64  \n",
      " 179  office_sqm_1000                        int64  \n",
      " 180  trc_count_1000                         int64  \n",
      " 181  trc_sqm_1000                           int64  \n",
      " 182  cafe_count_1000                        int64  \n",
      " 183  cafe_sum_1000_min_price_avg            float64\n",
      " 184  cafe_sum_1000_max_price_avg            float64\n",
      " 185  cafe_avg_price_1000                    float64\n",
      " 186  cafe_count_1000_na_price               int64  \n",
      " 187  cafe_count_1000_price_500              int64  \n",
      " 188  cafe_count_1000_price_1000             int64  \n",
      " 189  cafe_count_1000_price_1500             int64  \n",
      " 190  cafe_count_1000_price_2500             int64  \n",
      " 191  cafe_count_1000_price_4000             int64  \n",
      " 192  cafe_count_1000_price_high             int64  \n",
      " 193  big_church_count_1000                  int64  \n",
      " 194  church_count_1000                      int64  \n",
      " 195  mosque_count_1000                      int64  \n",
      " 196  leisure_count_1000                     int64  \n",
      " 197  sport_count_1000                       int64  \n",
      " 198  market_count_1000                      int64  \n",
      " 199  green_part_1500                        float64\n",
      " 200  prom_part_1500                         float64\n",
      " 201  office_count_1500                      int64  \n",
      " 202  office_sqm_1500                        int64  \n",
      " 203  trc_count_1500                         int64  \n",
      " 204  trc_sqm_1500                           int64  \n",
      " 205  cafe_count_1500                        int64  \n",
      " 206  cafe_sum_1500_min_price_avg            float64\n",
      " 207  cafe_sum_1500_max_price_avg            float64\n",
      " 208  cafe_avg_price_1500                    float64\n",
      " 209  cafe_count_1500_na_price               int64  \n",
      " 210  cafe_count_1500_price_500              int64  \n",
      " 211  cafe_count_1500_price_1000             int64  \n",
      " 212  cafe_count_1500_price_1500             int64  \n",
      " 213  cafe_count_1500_price_2500             int64  \n",
      " 214  cafe_count_1500_price_4000             int64  \n",
      " 215  cafe_count_1500_price_high             int64  \n",
      " 216  big_church_count_1500                  int64  \n",
      " 217  church_count_1500                      int64  \n",
      " 218  mosque_count_1500                      int64  \n",
      " 219  leisure_count_1500                     int64  \n",
      " 220  sport_count_1500                       int64  \n",
      " 221  market_count_1500                      int64  \n",
      " 222  green_part_2000                        float64\n",
      " 223  prom_part_2000                         float64\n",
      " 224  office_count_2000                      int64  \n",
      " 225  office_sqm_2000                        int64  \n",
      " 226  trc_count_2000                         int64  \n",
      " 227  trc_sqm_2000                           int64  \n",
      " 228  cafe_count_2000                        int64  \n",
      " 229  cafe_sum_2000_min_price_avg            float64\n",
      " 230  cafe_sum_2000_max_price_avg            float64\n",
      " 231  cafe_avg_price_2000                    float64\n",
      " 232  cafe_count_2000_na_price               int64  \n",
      " 233  cafe_count_2000_price_500              int64  \n",
      " 234  cafe_count_2000_price_1000             int64  \n",
      " 235  cafe_count_2000_price_1500             int64  \n",
      " 236  cafe_count_2000_price_2500             int64  \n",
      " 237  cafe_count_2000_price_4000             int64  \n",
      " 238  cafe_count_2000_price_high             int64  \n",
      " 239  big_church_count_2000                  int64  \n",
      " 240  church_count_2000                      int64  \n",
      " 241  mosque_count_2000                      int64  \n",
      " 242  leisure_count_2000                     int64  \n",
      " 243  sport_count_2000                       int64  \n",
      " 244  market_count_2000                      int64  \n",
      " 245  green_part_3000                        float64\n",
      " 246  prom_part_3000                         float64\n",
      " 247  office_count_3000                      int64  \n",
      " 248  office_sqm_3000                        int64  \n",
      " 249  trc_count_3000                         int64  \n",
      " 250  trc_sqm_3000                           int64  \n",
      " 251  cafe_count_3000                        int64  \n",
      " 252  cafe_sum_3000_min_price_avg            float64\n",
      " 253  cafe_sum_3000_max_price_avg            float64\n",
      " 254  cafe_avg_price_3000                    float64\n",
      " 255  cafe_count_3000_na_price               int64  \n",
      " 256  cafe_count_3000_price_500              int64  \n",
      " 257  cafe_count_3000_price_1000             int64  \n",
      " 258  cafe_count_3000_price_1500             int64  \n",
      " 259  cafe_count_3000_price_2500             int64  \n",
      " 260  cafe_count_3000_price_4000             int64  \n",
      " 261  cafe_count_3000_price_high             int64  \n",
      " 262  big_church_count_3000                  int64  \n",
      " 263  church_count_3000                      int64  \n",
      " 264  mosque_count_3000                      int64  \n",
      " 265  leisure_count_3000                     int64  \n",
      " 266  sport_count_3000                       int64  \n",
      " 267  market_count_3000                      int64  \n",
      " 268  green_part_5000                        float64\n",
      " 269  prom_part_5000                         float64\n",
      " 270  office_count_5000                      int64  \n",
      " 271  office_sqm_5000                        int64  \n",
      " 272  trc_count_5000                         int64  \n",
      " 273  trc_sqm_5000                           int64  \n",
      " 274  cafe_count_5000                        int64  \n",
      " 275  cafe_sum_5000_min_price_avg            float64\n",
      " 276  cafe_sum_5000_max_price_avg            float64\n",
      " 277  cafe_avg_price_5000                    float64\n",
      " 278  cafe_count_5000_na_price               int64  \n",
      " 279  cafe_count_5000_price_500              int64  \n",
      " 280  cafe_count_5000_price_1000             int64  \n",
      " 281  cafe_count_5000_price_1500             int64  \n",
      " 282  cafe_count_5000_price_2500             int64  \n",
      " 283  cafe_count_5000_price_4000             int64  \n",
      " 284  cafe_count_5000_price_high             int64  \n",
      " 285  big_church_count_5000                  int64  \n",
      " 286  church_count_5000                      int64  \n",
      " 287  mosque_count_5000                      int64  \n",
      " 288  leisure_count_5000                     int64  \n",
      " 289  sport_count_5000                       int64  \n",
      " 290  market_count_5000                      int64  \n",
      " 291  price_doc                              int64  \n",
      "dtypes: float64(119), int64(157), object(16)\n",
      "memory usage: 67.9+ MB\n"
     ]
    }
   ],
   "source": [
    "import pandas as pd\n",
    "\n",
    "df = pd.read_csv(\"data/sberbank-russian-housing-market/train.csv\")\n",
    "df.info(verbose=True)"
   ]
  },
  {
   "cell_type": "code",
   "execution_count": 2,
   "metadata": {
    "collapsed": false,
    "pycharm": {
     "name": "#%%\n"
    }
   },
   "outputs": [
    {
     "data": {
      "text/html": [
       "<div>\n",
       "<style scoped>\n",
       "    .dataframe tbody tr th:only-of-type {\n",
       "        vertical-align: middle;\n",
       "    }\n",
       "\n",
       "    .dataframe tbody tr th {\n",
       "        vertical-align: top;\n",
       "    }\n",
       "\n",
       "    .dataframe thead th {\n",
       "        text-align: right;\n",
       "    }\n",
       "</style>\n",
       "<table border=\"1\" class=\"dataframe\">\n",
       "  <thead>\n",
       "    <tr style=\"text-align: right;\">\n",
       "      <th></th>\n",
       "      <th>id</th>\n",
       "      <th>timestamp</th>\n",
       "      <th>full_sq</th>\n",
       "      <th>life_sq</th>\n",
       "      <th>floor</th>\n",
       "      <th>max_floor</th>\n",
       "      <th>material</th>\n",
       "      <th>build_year</th>\n",
       "      <th>num_room</th>\n",
       "      <th>kitch_sq</th>\n",
       "      <th>...</th>\n",
       "      <th>cafe_count_5000_price_2500</th>\n",
       "      <th>cafe_count_5000_price_4000</th>\n",
       "      <th>cafe_count_5000_price_high</th>\n",
       "      <th>big_church_count_5000</th>\n",
       "      <th>church_count_5000</th>\n",
       "      <th>mosque_count_5000</th>\n",
       "      <th>leisure_count_5000</th>\n",
       "      <th>sport_count_5000</th>\n",
       "      <th>market_count_5000</th>\n",
       "      <th>price_doc</th>\n",
       "    </tr>\n",
       "  </thead>\n",
       "  <tbody>\n",
       "    <tr>\n",
       "      <th>0</th>\n",
       "      <td>1</td>\n",
       "      <td>2011-08-20</td>\n",
       "      <td>43</td>\n",
       "      <td>27.0</td>\n",
       "      <td>4.0</td>\n",
       "      <td>NaN</td>\n",
       "      <td>NaN</td>\n",
       "      <td>NaN</td>\n",
       "      <td>NaN</td>\n",
       "      <td>NaN</td>\n",
       "      <td>...</td>\n",
       "      <td>9</td>\n",
       "      <td>4</td>\n",
       "      <td>0</td>\n",
       "      <td>13</td>\n",
       "      <td>22</td>\n",
       "      <td>1</td>\n",
       "      <td>0</td>\n",
       "      <td>52</td>\n",
       "      <td>4</td>\n",
       "      <td>5850000</td>\n",
       "    </tr>\n",
       "    <tr>\n",
       "      <th>1</th>\n",
       "      <td>2</td>\n",
       "      <td>2011-08-23</td>\n",
       "      <td>34</td>\n",
       "      <td>19.0</td>\n",
       "      <td>3.0</td>\n",
       "      <td>NaN</td>\n",
       "      <td>NaN</td>\n",
       "      <td>NaN</td>\n",
       "      <td>NaN</td>\n",
       "      <td>NaN</td>\n",
       "      <td>...</td>\n",
       "      <td>15</td>\n",
       "      <td>3</td>\n",
       "      <td>0</td>\n",
       "      <td>15</td>\n",
       "      <td>29</td>\n",
       "      <td>1</td>\n",
       "      <td>10</td>\n",
       "      <td>66</td>\n",
       "      <td>14</td>\n",
       "      <td>6000000</td>\n",
       "    </tr>\n",
       "    <tr>\n",
       "      <th>2</th>\n",
       "      <td>3</td>\n",
       "      <td>2011-08-27</td>\n",
       "      <td>43</td>\n",
       "      <td>29.0</td>\n",
       "      <td>2.0</td>\n",
       "      <td>NaN</td>\n",
       "      <td>NaN</td>\n",
       "      <td>NaN</td>\n",
       "      <td>NaN</td>\n",
       "      <td>NaN</td>\n",
       "      <td>...</td>\n",
       "      <td>10</td>\n",
       "      <td>3</td>\n",
       "      <td>0</td>\n",
       "      <td>11</td>\n",
       "      <td>27</td>\n",
       "      <td>0</td>\n",
       "      <td>4</td>\n",
       "      <td>67</td>\n",
       "      <td>10</td>\n",
       "      <td>5700000</td>\n",
       "    </tr>\n",
       "    <tr>\n",
       "      <th>3</th>\n",
       "      <td>4</td>\n",
       "      <td>2011-09-01</td>\n",
       "      <td>89</td>\n",
       "      <td>50.0</td>\n",
       "      <td>9.0</td>\n",
       "      <td>NaN</td>\n",
       "      <td>NaN</td>\n",
       "      <td>NaN</td>\n",
       "      <td>NaN</td>\n",
       "      <td>NaN</td>\n",
       "      <td>...</td>\n",
       "      <td>11</td>\n",
       "      <td>2</td>\n",
       "      <td>1</td>\n",
       "      <td>4</td>\n",
       "      <td>4</td>\n",
       "      <td>0</td>\n",
       "      <td>0</td>\n",
       "      <td>26</td>\n",
       "      <td>3</td>\n",
       "      <td>13100000</td>\n",
       "    </tr>\n",
       "    <tr>\n",
       "      <th>4</th>\n",
       "      <td>5</td>\n",
       "      <td>2011-09-05</td>\n",
       "      <td>77</td>\n",
       "      <td>77.0</td>\n",
       "      <td>4.0</td>\n",
       "      <td>NaN</td>\n",
       "      <td>NaN</td>\n",
       "      <td>NaN</td>\n",
       "      <td>NaN</td>\n",
       "      <td>NaN</td>\n",
       "      <td>...</td>\n",
       "      <td>319</td>\n",
       "      <td>108</td>\n",
       "      <td>17</td>\n",
       "      <td>135</td>\n",
       "      <td>236</td>\n",
       "      <td>2</td>\n",
       "      <td>91</td>\n",
       "      <td>195</td>\n",
       "      <td>14</td>\n",
       "      <td>16331452</td>\n",
       "    </tr>\n",
       "  </tbody>\n",
       "</table>\n",
       "<p>5 rows × 292 columns</p>\n",
       "</div>"
      ],
      "text/plain": [
       "   id   timestamp  full_sq  life_sq  floor  max_floor  material  build_year  \\\n",
       "0   1  2011-08-20       43     27.0    4.0        NaN       NaN         NaN   \n",
       "1   2  2011-08-23       34     19.0    3.0        NaN       NaN         NaN   \n",
       "2   3  2011-08-27       43     29.0    2.0        NaN       NaN         NaN   \n",
       "3   4  2011-09-01       89     50.0    9.0        NaN       NaN         NaN   \n",
       "4   5  2011-09-05       77     77.0    4.0        NaN       NaN         NaN   \n",
       "\n",
       "   num_room  kitch_sq  ...  cafe_count_5000_price_2500  \\\n",
       "0       NaN       NaN  ...                           9   \n",
       "1       NaN       NaN  ...                          15   \n",
       "2       NaN       NaN  ...                          10   \n",
       "3       NaN       NaN  ...                          11   \n",
       "4       NaN       NaN  ...                         319   \n",
       "\n",
       "  cafe_count_5000_price_4000 cafe_count_5000_price_high  \\\n",
       "0                          4                          0   \n",
       "1                          3                          0   \n",
       "2                          3                          0   \n",
       "3                          2                          1   \n",
       "4                        108                         17   \n",
       "\n",
       "   big_church_count_5000  church_count_5000  mosque_count_5000  \\\n",
       "0                     13                 22                  1   \n",
       "1                     15                 29                  1   \n",
       "2                     11                 27                  0   \n",
       "3                      4                  4                  0   \n",
       "4                    135                236                  2   \n",
       "\n",
       "   leisure_count_5000  sport_count_5000  market_count_5000  price_doc  \n",
       "0                   0                52                  4    5850000  \n",
       "1                  10                66                 14    6000000  \n",
       "2                   4                67                 10    5700000  \n",
       "3                   0                26                  3   13100000  \n",
       "4                  91               195                 14   16331452  \n",
       "\n",
       "[5 rows x 292 columns]"
      ]
     },
     "execution_count": 2,
     "metadata": {},
     "output_type": "execute_result"
    }
   ],
   "source": [
    "df.head()"
   ]
  },
  {
   "cell_type": "markdown",
   "metadata": {
    "collapsed": false,
    "pycharm": {
     "name": "#%% md\n"
    }
   },
   "source": [
    "Schon recht umfangreicher Datensatz. Fast 300 Spalten.\n",
    "\n",
    "Und schon in den ersten Zeilen ist erkennbar, dass nicht alle Felder besetzt sind. (NaN)\n",
    "\n",
    "Wichtig bei der Übersicht: numerische und nicht-numerische Daten vorhanden.\n",
    "Schauen wir nochmal genauer hin:"
   ]
  },
  {
   "cell_type": "code",
   "execution_count": 3,
   "metadata": {
    "collapsed": false,
    "pycharm": {
     "name": "#%%\n"
    }
   },
   "outputs": [
    {
     "data": {
      "text/plain": [
       "Index(['id', 'full_sq', 'life_sq', 'floor', 'max_floor', 'material',\n",
       "       'build_year', 'num_room', 'kitch_sq', 'state',\n",
       "       ...\n",
       "       'cafe_count_5000_price_2500', 'cafe_count_5000_price_4000',\n",
       "       'cafe_count_5000_price_high', 'big_church_count_5000',\n",
       "       'church_count_5000', 'mosque_count_5000', 'leisure_count_5000',\n",
       "       'sport_count_5000', 'market_count_5000', 'price_doc'],\n",
       "      dtype='object', length=276)"
      ]
     },
     "execution_count": 3,
     "metadata": {},
     "output_type": "execute_result"
    }
   ],
   "source": [
    "numeric_cols = df.select_dtypes(include=[\"number\"]).columns\n",
    "numeric_cols"
   ]
  },
  {
   "cell_type": "code",
   "execution_count": 4,
   "metadata": {
    "collapsed": false,
    "pycharm": {
     "name": "#%%\n"
    }
   },
   "outputs": [
    {
     "data": {
      "text/plain": [
       "Index(['timestamp', 'product_type', 'sub_area', 'culture_objects_top_25',\n",
       "       'thermal_power_plant_raion', 'incineration_raion',\n",
       "       'oil_chemistry_raion', 'radiation_raion', 'railroad_terminal_raion',\n",
       "       'big_market_raion', 'nuclear_reactor_raion', 'detention_facility_raion',\n",
       "       'water_1line', 'big_road1_1line', 'railroad_1line', 'ecology'],\n",
       "      dtype='object')"
      ]
     },
     "execution_count": 4,
     "metadata": {},
     "output_type": "execute_result"
    }
   ],
   "source": [
    "non_numeric_cols = df.select_dtypes(exclude=['number']).columns\n",
    "non_numeric_cols"
   ]
  },
  {
   "cell_type": "markdown",
   "metadata": {
    "collapsed": false,
    "pycharm": {
     "name": "#%% md\n"
    }
   },
   "source": [
    "## Schritt 1: Missing Data\n",
    "\n",
    "Lücken in den Daten:\n",
    "* Sehr üblich in \"echten\" Datensätzen\n",
    "* Weiterverarbeitung schwierig (Visualisierung) bis unmöglich (Machine Learning)\n",
    "\n",
    "Was ist zu tun?\n",
    "* Aufspüren\n",
    "* Lücken stopfen oder\n",
    "* Lückenhafte Bereiche verwerfen"
   ]
  },
  {
   "cell_type": "markdown",
   "metadata": {
    "collapsed": false,
    "pycharm": {
     "name": "#%% md\n"
    }
   },
   "source": [
    "### Aufspüren\n",
    "\n",
    "Simple Methode: Anzeige per \"info\""
   ]
  },
  {
   "cell_type": "code",
   "execution_count": 5,
   "metadata": {
    "collapsed": false,
    "pycharm": {
     "name": "#%%\n"
    }
   },
   "outputs": [
    {
     "name": "stdout",
     "output_type": "stream",
     "text": [
      "<class 'pandas.core.frame.DataFrame'>\n",
      "RangeIndex: 30471 entries, 0 to 30470\n",
      "Data columns (total 16 columns):\n",
      " #   Column                     Non-Null Count  Dtype \n",
      "---  ------                     --------------  ----- \n",
      " 0   timestamp                  30471 non-null  object\n",
      " 1   product_type               30471 non-null  object\n",
      " 2   sub_area                   30471 non-null  object\n",
      " 3   culture_objects_top_25     30471 non-null  object\n",
      " 4   thermal_power_plant_raion  30471 non-null  object\n",
      " 5   incineration_raion         30471 non-null  object\n",
      " 6   oil_chemistry_raion        30471 non-null  object\n",
      " 7   radiation_raion            30471 non-null  object\n",
      " 8   railroad_terminal_raion    30471 non-null  object\n",
      " 9   big_market_raion           30471 non-null  object\n",
      " 10  nuclear_reactor_raion      30471 non-null  object\n",
      " 11  detention_facility_raion   30471 non-null  object\n",
      " 12  water_1line                30471 non-null  object\n",
      " 13  big_road1_1line            30471 non-null  object\n",
      " 14  railroad_1line             30471 non-null  object\n",
      " 15  ecology                    30471 non-null  object\n",
      "dtypes: object(16)\n",
      "memory usage: 3.7+ MB\n"
     ]
    }
   ],
   "source": [
    "df[non_numeric_cols].info()"
   ]
  },
  {
   "cell_type": "markdown",
   "metadata": {
    "collapsed": false,
    "pycharm": {
     "name": "#%% md\n"
    }
   },
   "source": [
    "Wie wir sehen, sind alle nicht-numerischen Spalten komplett gefüllt (je 30471 non-null Einträge) - sehr gut!\n",
    "\n",
    "Für die numerischen Spalten geht es nicht so direkt. Aber es gibt spezielle Methoden dafür:"
   ]
  },
  {
   "cell_type": "code",
   "execution_count": 6,
   "metadata": {
    "collapsed": false,
    "pycharm": {
     "name": "#%%\n"
    }
   },
   "outputs": [
    {
     "data": {
      "text/html": [
       "<div>\n",
       "<style scoped>\n",
       "    .dataframe tbody tr th:only-of-type {\n",
       "        vertical-align: middle;\n",
       "    }\n",
       "\n",
       "    .dataframe tbody tr th {\n",
       "        vertical-align: top;\n",
       "    }\n",
       "\n",
       "    .dataframe thead th {\n",
       "        text-align: right;\n",
       "    }\n",
       "</style>\n",
       "<table border=\"1\" class=\"dataframe\">\n",
       "  <thead>\n",
       "    <tr style=\"text-align: right;\">\n",
       "      <th></th>\n",
       "      <th>id</th>\n",
       "      <th>timestamp</th>\n",
       "      <th>full_sq</th>\n",
       "      <th>life_sq</th>\n",
       "      <th>floor</th>\n",
       "      <th>max_floor</th>\n",
       "      <th>material</th>\n",
       "      <th>build_year</th>\n",
       "      <th>num_room</th>\n",
       "      <th>kitch_sq</th>\n",
       "      <th>...</th>\n",
       "      <th>cafe_count_5000_price_2500</th>\n",
       "      <th>cafe_count_5000_price_4000</th>\n",
       "      <th>cafe_count_5000_price_high</th>\n",
       "      <th>big_church_count_5000</th>\n",
       "      <th>church_count_5000</th>\n",
       "      <th>mosque_count_5000</th>\n",
       "      <th>leisure_count_5000</th>\n",
       "      <th>sport_count_5000</th>\n",
       "      <th>market_count_5000</th>\n",
       "      <th>price_doc</th>\n",
       "    </tr>\n",
       "  </thead>\n",
       "  <tbody>\n",
       "    <tr>\n",
       "      <th>0</th>\n",
       "      <td>False</td>\n",
       "      <td>False</td>\n",
       "      <td>False</td>\n",
       "      <td>False</td>\n",
       "      <td>False</td>\n",
       "      <td>True</td>\n",
       "      <td>True</td>\n",
       "      <td>True</td>\n",
       "      <td>True</td>\n",
       "      <td>True</td>\n",
       "      <td>...</td>\n",
       "      <td>False</td>\n",
       "      <td>False</td>\n",
       "      <td>False</td>\n",
       "      <td>False</td>\n",
       "      <td>False</td>\n",
       "      <td>False</td>\n",
       "      <td>False</td>\n",
       "      <td>False</td>\n",
       "      <td>False</td>\n",
       "      <td>False</td>\n",
       "    </tr>\n",
       "    <tr>\n",
       "      <th>1</th>\n",
       "      <td>False</td>\n",
       "      <td>False</td>\n",
       "      <td>False</td>\n",
       "      <td>False</td>\n",
       "      <td>False</td>\n",
       "      <td>True</td>\n",
       "      <td>True</td>\n",
       "      <td>True</td>\n",
       "      <td>True</td>\n",
       "      <td>True</td>\n",
       "      <td>...</td>\n",
       "      <td>False</td>\n",
       "      <td>False</td>\n",
       "      <td>False</td>\n",
       "      <td>False</td>\n",
       "      <td>False</td>\n",
       "      <td>False</td>\n",
       "      <td>False</td>\n",
       "      <td>False</td>\n",
       "      <td>False</td>\n",
       "      <td>False</td>\n",
       "    </tr>\n",
       "    <tr>\n",
       "      <th>2</th>\n",
       "      <td>False</td>\n",
       "      <td>False</td>\n",
       "      <td>False</td>\n",
       "      <td>False</td>\n",
       "      <td>False</td>\n",
       "      <td>True</td>\n",
       "      <td>True</td>\n",
       "      <td>True</td>\n",
       "      <td>True</td>\n",
       "      <td>True</td>\n",
       "      <td>...</td>\n",
       "      <td>False</td>\n",
       "      <td>False</td>\n",
       "      <td>False</td>\n",
       "      <td>False</td>\n",
       "      <td>False</td>\n",
       "      <td>False</td>\n",
       "      <td>False</td>\n",
       "      <td>False</td>\n",
       "      <td>False</td>\n",
       "      <td>False</td>\n",
       "    </tr>\n",
       "    <tr>\n",
       "      <th>3</th>\n",
       "      <td>False</td>\n",
       "      <td>False</td>\n",
       "      <td>False</td>\n",
       "      <td>False</td>\n",
       "      <td>False</td>\n",
       "      <td>True</td>\n",
       "      <td>True</td>\n",
       "      <td>True</td>\n",
       "      <td>True</td>\n",
       "      <td>True</td>\n",
       "      <td>...</td>\n",
       "      <td>False</td>\n",
       "      <td>False</td>\n",
       "      <td>False</td>\n",
       "      <td>False</td>\n",
       "      <td>False</td>\n",
       "      <td>False</td>\n",
       "      <td>False</td>\n",
       "      <td>False</td>\n",
       "      <td>False</td>\n",
       "      <td>False</td>\n",
       "    </tr>\n",
       "    <tr>\n",
       "      <th>4</th>\n",
       "      <td>False</td>\n",
       "      <td>False</td>\n",
       "      <td>False</td>\n",
       "      <td>False</td>\n",
       "      <td>False</td>\n",
       "      <td>True</td>\n",
       "      <td>True</td>\n",
       "      <td>True</td>\n",
       "      <td>True</td>\n",
       "      <td>True</td>\n",
       "      <td>...</td>\n",
       "      <td>False</td>\n",
       "      <td>False</td>\n",
       "      <td>False</td>\n",
       "      <td>False</td>\n",
       "      <td>False</td>\n",
       "      <td>False</td>\n",
       "      <td>False</td>\n",
       "      <td>False</td>\n",
       "      <td>False</td>\n",
       "      <td>False</td>\n",
       "    </tr>\n",
       "    <tr>\n",
       "      <th>...</th>\n",
       "      <td>...</td>\n",
       "      <td>...</td>\n",
       "      <td>...</td>\n",
       "      <td>...</td>\n",
       "      <td>...</td>\n",
       "      <td>...</td>\n",
       "      <td>...</td>\n",
       "      <td>...</td>\n",
       "      <td>...</td>\n",
       "      <td>...</td>\n",
       "      <td>...</td>\n",
       "      <td>...</td>\n",
       "      <td>...</td>\n",
       "      <td>...</td>\n",
       "      <td>...</td>\n",
       "      <td>...</td>\n",
       "      <td>...</td>\n",
       "      <td>...</td>\n",
       "      <td>...</td>\n",
       "      <td>...</td>\n",
       "      <td>...</td>\n",
       "    </tr>\n",
       "    <tr>\n",
       "      <th>30466</th>\n",
       "      <td>False</td>\n",
       "      <td>False</td>\n",
       "      <td>False</td>\n",
       "      <td>False</td>\n",
       "      <td>False</td>\n",
       "      <td>False</td>\n",
       "      <td>False</td>\n",
       "      <td>False</td>\n",
       "      <td>False</td>\n",
       "      <td>False</td>\n",
       "      <td>...</td>\n",
       "      <td>False</td>\n",
       "      <td>False</td>\n",
       "      <td>False</td>\n",
       "      <td>False</td>\n",
       "      <td>False</td>\n",
       "      <td>False</td>\n",
       "      <td>False</td>\n",
       "      <td>False</td>\n",
       "      <td>False</td>\n",
       "      <td>False</td>\n",
       "    </tr>\n",
       "    <tr>\n",
       "      <th>30467</th>\n",
       "      <td>False</td>\n",
       "      <td>False</td>\n",
       "      <td>False</td>\n",
       "      <td>False</td>\n",
       "      <td>False</td>\n",
       "      <td>False</td>\n",
       "      <td>False</td>\n",
       "      <td>False</td>\n",
       "      <td>False</td>\n",
       "      <td>False</td>\n",
       "      <td>...</td>\n",
       "      <td>False</td>\n",
       "      <td>False</td>\n",
       "      <td>False</td>\n",
       "      <td>False</td>\n",
       "      <td>False</td>\n",
       "      <td>False</td>\n",
       "      <td>False</td>\n",
       "      <td>False</td>\n",
       "      <td>False</td>\n",
       "      <td>False</td>\n",
       "    </tr>\n",
       "    <tr>\n",
       "      <th>30468</th>\n",
       "      <td>False</td>\n",
       "      <td>False</td>\n",
       "      <td>False</td>\n",
       "      <td>True</td>\n",
       "      <td>False</td>\n",
       "      <td>False</td>\n",
       "      <td>False</td>\n",
       "      <td>True</td>\n",
       "      <td>False</td>\n",
       "      <td>False</td>\n",
       "      <td>...</td>\n",
       "      <td>False</td>\n",
       "      <td>False</td>\n",
       "      <td>False</td>\n",
       "      <td>False</td>\n",
       "      <td>False</td>\n",
       "      <td>False</td>\n",
       "      <td>False</td>\n",
       "      <td>False</td>\n",
       "      <td>False</td>\n",
       "      <td>False</td>\n",
       "    </tr>\n",
       "    <tr>\n",
       "      <th>30469</th>\n",
       "      <td>False</td>\n",
       "      <td>False</td>\n",
       "      <td>False</td>\n",
       "      <td>False</td>\n",
       "      <td>False</td>\n",
       "      <td>False</td>\n",
       "      <td>False</td>\n",
       "      <td>False</td>\n",
       "      <td>False</td>\n",
       "      <td>False</td>\n",
       "      <td>...</td>\n",
       "      <td>False</td>\n",
       "      <td>False</td>\n",
       "      <td>False</td>\n",
       "      <td>False</td>\n",
       "      <td>False</td>\n",
       "      <td>False</td>\n",
       "      <td>False</td>\n",
       "      <td>False</td>\n",
       "      <td>False</td>\n",
       "      <td>False</td>\n",
       "    </tr>\n",
       "    <tr>\n",
       "      <th>30470</th>\n",
       "      <td>False</td>\n",
       "      <td>False</td>\n",
       "      <td>False</td>\n",
       "      <td>False</td>\n",
       "      <td>False</td>\n",
       "      <td>False</td>\n",
       "      <td>False</td>\n",
       "      <td>False</td>\n",
       "      <td>False</td>\n",
       "      <td>False</td>\n",
       "      <td>...</td>\n",
       "      <td>False</td>\n",
       "      <td>False</td>\n",
       "      <td>False</td>\n",
       "      <td>False</td>\n",
       "      <td>False</td>\n",
       "      <td>False</td>\n",
       "      <td>False</td>\n",
       "      <td>False</td>\n",
       "      <td>False</td>\n",
       "      <td>False</td>\n",
       "    </tr>\n",
       "  </tbody>\n",
       "</table>\n",
       "<p>30471 rows × 292 columns</p>\n",
       "</div>"
      ],
      "text/plain": [
       "          id  timestamp  full_sq  life_sq  floor  max_floor  material  \\\n",
       "0      False      False    False    False  False       True      True   \n",
       "1      False      False    False    False  False       True      True   \n",
       "2      False      False    False    False  False       True      True   \n",
       "3      False      False    False    False  False       True      True   \n",
       "4      False      False    False    False  False       True      True   \n",
       "...      ...        ...      ...      ...    ...        ...       ...   \n",
       "30466  False      False    False    False  False      False     False   \n",
       "30467  False      False    False    False  False      False     False   \n",
       "30468  False      False    False     True  False      False     False   \n",
       "30469  False      False    False    False  False      False     False   \n",
       "30470  False      False    False    False  False      False     False   \n",
       "\n",
       "       build_year  num_room  kitch_sq  ...  cafe_count_5000_price_2500  \\\n",
       "0            True      True      True  ...                       False   \n",
       "1            True      True      True  ...                       False   \n",
       "2            True      True      True  ...                       False   \n",
       "3            True      True      True  ...                       False   \n",
       "4            True      True      True  ...                       False   \n",
       "...           ...       ...       ...  ...                         ...   \n",
       "30466       False     False     False  ...                       False   \n",
       "30467       False     False     False  ...                       False   \n",
       "30468        True     False     False  ...                       False   \n",
       "30469       False     False     False  ...                       False   \n",
       "30470       False     False     False  ...                       False   \n",
       "\n",
       "       cafe_count_5000_price_4000  cafe_count_5000_price_high  \\\n",
       "0                           False                       False   \n",
       "1                           False                       False   \n",
       "2                           False                       False   \n",
       "3                           False                       False   \n",
       "4                           False                       False   \n",
       "...                           ...                         ...   \n",
       "30466                       False                       False   \n",
       "30467                       False                       False   \n",
       "30468                       False                       False   \n",
       "30469                       False                       False   \n",
       "30470                       False                       False   \n",
       "\n",
       "       big_church_count_5000  church_count_5000  mosque_count_5000  \\\n",
       "0                      False              False              False   \n",
       "1                      False              False              False   \n",
       "2                      False              False              False   \n",
       "3                      False              False              False   \n",
       "4                      False              False              False   \n",
       "...                      ...                ...                ...   \n",
       "30466                  False              False              False   \n",
       "30467                  False              False              False   \n",
       "30468                  False              False              False   \n",
       "30469                  False              False              False   \n",
       "30470                  False              False              False   \n",
       "\n",
       "       leisure_count_5000  sport_count_5000  market_count_5000  price_doc  \n",
       "0                   False             False              False      False  \n",
       "1                   False             False              False      False  \n",
       "2                   False             False              False      False  \n",
       "3                   False             False              False      False  \n",
       "4                   False             False              False      False  \n",
       "...                   ...               ...                ...        ...  \n",
       "30466               False             False              False      False  \n",
       "30467               False             False              False      False  \n",
       "30468               False             False              False      False  \n",
       "30469               False             False              False      False  \n",
       "30470               False             False              False      False  \n",
       "\n",
       "[30471 rows x 292 columns]"
      ]
     },
     "execution_count": 6,
     "metadata": {},
     "output_type": "execute_result"
    }
   ],
   "source": [
    "df.isna()"
   ]
  },
  {
   "cell_type": "markdown",
   "metadata": {
    "collapsed": false,
    "pycharm": {
     "name": "#%% md\n"
    }
   },
   "source": [
    "Mmh, etwas unübersichtlich. Lieber mal aggregieren:"
   ]
  },
  {
   "cell_type": "code",
   "execution_count": 7,
   "metadata": {
    "collapsed": false,
    "pycharm": {
     "name": "#%%\n"
    }
   },
   "outputs": [
    {
     "data": {
      "text/plain": [
       "id                0\n",
       "timestamp         0\n",
       "full_sq           0\n",
       "life_sq        6383\n",
       "floor           167\n",
       "max_floor      9572\n",
       "material       9572\n",
       "build_year    13605\n",
       "num_room       9572\n",
       "kitch_sq       9572\n",
       "dtype: int64"
      ]
     },
     "execution_count": 7,
     "metadata": {},
     "output_type": "execute_result"
    }
   ],
   "source": [
    "num_missing = df.isna().sum()\n",
    "num_missing[:10]"
   ]
  },
  {
   "cell_type": "markdown",
   "metadata": {
    "collapsed": false,
    "pycharm": {
     "name": "#%% md\n"
    }
   },
   "source": [
    "Oh, da fehlt teils einiges... Wie viel prozentual?"
   ]
  },
  {
   "cell_type": "code",
   "execution_count": 8,
   "metadata": {
    "collapsed": false,
    "pycharm": {
     "name": "#%%\n"
    }
   },
   "outputs": [
    {
     "data": {
      "text/plain": [
       "id            0.000000\n",
       "timestamp     0.000000\n",
       "full_sq       0.000000\n",
       "life_sq       0.209478\n",
       "floor         0.005481\n",
       "max_floor     0.314135\n",
       "material      0.314135\n",
       "build_year    0.446490\n",
       "num_room      0.314135\n",
       "kitch_sq      0.314135\n",
       "dtype: float64"
      ]
     },
     "execution_count": 8,
     "metadata": {},
     "output_type": "execute_result"
    }
   ],
   "source": [
    "pct_missing = df.isna().mean()\n",
    "pct_missing[:10]"
   ]
  },
  {
   "cell_type": "markdown",
   "metadata": {
    "collapsed": false,
    "pycharm": {
     "name": "#%% md\n"
    }
   },
   "source": [
    "Das sind schon mal wichtige Ergebnisse:\n",
    "* bei wenigen fehlenden Elementen (z.B. floor) kann man über Imputation nachdenken (Lücken füllen)\n",
    "* Spalten, bei denen fast die Hälfte fehlt (z.B. build_year) sind kaum zu retten (löschen)"
   ]
  },
  {
   "cell_type": "markdown",
   "metadata": {
    "collapsed": false,
    "pycharm": {
     "name": "#%% md\n"
    }
   },
   "source": [
    "### Aufspüren 2: Visualisierung\n",
    "\n",
    "Natürlich kann uns auch hier eine Visualisierung helfen. Geeignet ist beispielsweise eine Heatmap.\n",
    "\n",
    "Wir schränken uns zur besseren Veranschaulichung auf die ersten 30 Spalten ein.\n",
    "\n",
    "Hinweis: Hier wird \"seaborn\" als zusätzliche Bibliothek verwendet. Diese müssen sie wahrscheinlich noch installieren. Ich arbeite noch an einer Lösung mit matplotlib - die eigentlich auch möglich sein sollte...\n"
   ]
  },
  {
   "cell_type": "code",
   "execution_count": 16,
   "metadata": {
    "collapsed": false,
    "pycharm": {
     "name": "#%%\n"
    }
   },
   "outputs": [
    {
     "name": "stdout",
     "output_type": "stream",
     "text": [
      "Requirement already satisfied: pip in c:\\users\\roelkeheiko\\pycharmprojects\\arc\\venv\\lib\\site-packages (22.3.1)\n"
     ]
    }
   ],
   "source": [
    "# !C:\\Users\\roelkeheiko\\PycharmProjects\\arc\\venv\\Scripts\\python.exe -m pip install --upgrade pip\n",
    "#  siehe auch: https://jakevdp.github.io/blog/2017/12/05/installing-python-packages-from-jupyter/"
   ]
  },
  {
   "cell_type": "code",
   "execution_count": 18,
   "metadata": {
    "collapsed": false,
    "pycharm": {
     "name": "#%%\n"
    }
   },
   "outputs": [
    {
     "name": "stdout",
     "output_type": "stream",
     "text": [
      "Collecting matplotlib\n",
      "  Using cached matplotlib-3.6.2-cp310-cp310-win_amd64.whl (7.2 MB)\n",
      "Requirement already satisfied: cycler>=0.10 in c:\\users\\roelkeheiko\\pycharmprojects\\arc\\venv\\lib\\site-packages (from matplotlib) (0.11.0)\n",
      "Requirement already satisfied: pyparsing>=2.2.1 in c:\\users\\roelkeheiko\\pycharmprojects\\arc\\venv\\lib\\site-packages (from matplotlib) (3.0.9)\n",
      "Requirement already satisfied: fonttools>=4.22.0 in c:\\users\\roelkeheiko\\pycharmprojects\\arc\\venv\\lib\\site-packages (from matplotlib) (4.37.4)\n",
      "Requirement already satisfied: contourpy>=1.0.1 in c:\\users\\roelkeheiko\\pycharmprojects\\arc\\venv\\lib\\site-packages (from matplotlib) (1.0.5)\n",
      "Requirement already satisfied: packaging>=20.0 in c:\\users\\roelkeheiko\\pycharmprojects\\arc\\venv\\lib\\site-packages (from matplotlib) (21.3)\n",
      "Requirement already satisfied: kiwisolver>=1.0.1 in c:\\users\\roelkeheiko\\pycharmprojects\\arc\\venv\\lib\\site-packages (from matplotlib) (1.4.4)\n",
      "Requirement already satisfied: pillow>=6.2.0 in c:\\users\\roelkeheiko\\pycharmprojects\\arc\\venv\\lib\\site-packages (from matplotlib) (9.2.0)\n",
      "Requirement already satisfied: python-dateutil>=2.7 in c:\\users\\roelkeheiko\\pycharmprojects\\arc\\venv\\lib\\site-packages (from matplotlib) (2.8.2)\n",
      "Requirement already satisfied: numpy>=1.19 in c:\\users\\roelkeheiko\\pycharmprojects\\arc\\venv\\lib\\site-packages (from matplotlib) (1.23.4)\n",
      "Requirement already satisfied: six>=1.5 in c:\\users\\roelkeheiko\\pycharmprojects\\arc\\venv\\lib\\site-packages (from python-dateutil>=2.7->matplotlib) (1.16.0)\n",
      "Installing collected packages: matplotlib\n",
      "Successfully installed matplotlib-3.6.2\n"
     ]
    }
   ],
   "source": [
    "# !{sys.executable} -m pip install matplotlib"
   ]
  },
  {
   "cell_type": "code",
   "execution_count": 19,
   "metadata": {
    "collapsed": false,
    "pycharm": {
     "name": "#%%\n"
    }
   },
   "outputs": [
    {
     "name": "stdout",
     "output_type": "stream",
     "text": [
      "Collecting seaborn\n",
      "  Using cached seaborn-0.12.1-py3-none-any.whl (288 kB)\n",
      "Requirement already satisfied: pandas>=0.25 in c:\\users\\roelkeheiko\\pycharmprojects\\arc\\venv\\lib\\site-packages (from seaborn) (1.5.1)\n",
      "Requirement already satisfied: numpy>=1.17 in c:\\users\\roelkeheiko\\pycharmprojects\\arc\\venv\\lib\\site-packages (from seaborn) (1.23.4)\n",
      "Requirement already satisfied: matplotlib!=3.6.1,>=3.1 in c:\\users\\roelkeheiko\\pycharmprojects\\arc\\venv\\lib\\site-packages (from seaborn) (3.6.2)\n",
      "Requirement already satisfied: python-dateutil>=2.7 in c:\\users\\roelkeheiko\\pycharmprojects\\arc\\venv\\lib\\site-packages (from matplotlib!=3.6.1,>=3.1->seaborn) (2.8.2)\n",
      "Requirement already satisfied: contourpy>=1.0.1 in c:\\users\\roelkeheiko\\pycharmprojects\\arc\\venv\\lib\\site-packages (from matplotlib!=3.6.1,>=3.1->seaborn) (1.0.5)\n",
      "Requirement already satisfied: pyparsing>=2.2.1 in c:\\users\\roelkeheiko\\pycharmprojects\\arc\\venv\\lib\\site-packages (from matplotlib!=3.6.1,>=3.1->seaborn) (3.0.9)\n",
      "Requirement already satisfied: kiwisolver>=1.0.1 in c:\\users\\roelkeheiko\\pycharmprojects\\arc\\venv\\lib\\site-packages (from matplotlib!=3.6.1,>=3.1->seaborn) (1.4.4)\n",
      "Requirement already satisfied: cycler>=0.10 in c:\\users\\roelkeheiko\\pycharmprojects\\arc\\venv\\lib\\site-packages (from matplotlib!=3.6.1,>=3.1->seaborn) (0.11.0)\n",
      "Requirement already satisfied: fonttools>=4.22.0 in c:\\users\\roelkeheiko\\pycharmprojects\\arc\\venv\\lib\\site-packages (from matplotlib!=3.6.1,>=3.1->seaborn) (4.37.4)\n",
      "Requirement already satisfied: pillow>=6.2.0 in c:\\users\\roelkeheiko\\pycharmprojects\\arc\\venv\\lib\\site-packages (from matplotlib!=3.6.1,>=3.1->seaborn) (9.2.0)\n",
      "Requirement already satisfied: packaging>=20.0 in c:\\users\\roelkeheiko\\pycharmprojects\\arc\\venv\\lib\\site-packages (from matplotlib!=3.6.1,>=3.1->seaborn) (21.3)\n",
      "Requirement already satisfied: pytz>=2020.1 in c:\\users\\roelkeheiko\\pycharmprojects\\arc\\venv\\lib\\site-packages (from pandas>=0.25->seaborn) (2022.6)\n",
      "Requirement already satisfied: six>=1.5 in c:\\users\\roelkeheiko\\pycharmprojects\\arc\\venv\\lib\\site-packages (from python-dateutil>=2.7->matplotlib!=3.6.1,>=3.1->seaborn) (1.16.0)\n",
      "Installing collected packages: seaborn\n",
      "Successfully installed seaborn-0.12.1\n"
     ]
    }
   ],
   "source": [
    "# !{sys.executable} -m pip install seaborn"
   ]
  },
  {
   "cell_type": "code",
   "execution_count": 20,
   "metadata": {
    "collapsed": false,
    "pycharm": {
     "name": "#%%\n"
    }
   },
   "outputs": [
    {
     "data": {
      "text/plain": [
       "<AxesSubplot: >"
      ]
     },
     "execution_count": 20,
     "metadata": {},
     "output_type": "execute_result"
    },
    {
     "data": {
      "image/png": "[encoded data removed]",
      "text/plain": [
       "<Figure size 1000x800 with 2 Axes>"
      ]
     },
     "metadata": {},
     "output_type": "display_data"
    }
   ],
   "source": [
    "import matplotlib.pyplot as plt\n",
    "import seaborn as sns\n",
    "\n",
    "plt.figure(figsize=(10,8))\n",
    "cols = df.columns[:30]\n",
    "\n",
    "colors = [\"yellow\", \"blue\"]\n",
    "sns.heatmap(df[cols].isna(), cmap=sns.color_palette(colors))"
   ]
  },
  {
   "cell_type": "markdown",
   "metadata": {
    "collapsed": false,
    "pycharm": {
     "name": "#%% md\n"
    }
   },
   "source": [
    "Das ist jetzt schon sehr interessant: Bei einigen Spalten sind die Missings gut verteilt, bei anderen konzentriert.\n",
    "\n",
    "Beispiele:\n",
    "* life_sq fehlt breit verstreut\n",
    "* max_floor fehlt in den ersten ca. 10.000 Datensätzen, danach durchgehend vorhanden\n",
    "\n",
    "Hinweis: Natürlich fehlen in der Darstellung Einträge, es sind ja keine 30.000 Pixel in der Vertikale. Aber eine Tendenz ist trotzdem gut zu erkennen.\n",
    "\n",
    "Was bringt uns das? Wir können statt Spalten rauszuwerfen auch Zeilen ausschliessen und nur diejenigen analysieren, die vollständiger sind.\n",
    "Dafür können wir auch auf die Methoden von vorher zurückgreifen: Datenbereich einschränken und dann erneut durchzählen."
   ]
  },
  {
   "cell_type": "markdown",
   "metadata": {
    "collapsed": false,
    "pycharm": {
     "name": "#%% md\n"
    }
   },
   "source": [
    "### Aufspüren 3: Zeilenweise\n",
    "\n",
    "Natürlich kann auch in den einzelnen Datensätzen nach Missings gesucht werden.\n",
    "* Wie viele Datensätze sind vollständig?\n",
    "* Bei wie vielen fehlen 1,2,3... Datenpunkte\n",
    "* usw.\n",
    "\n",
    "Erweiterung/Veranschaulichung der Zählmethode von oben.\n",
    "#### Visualisierung per Histogramm"
   ]
  },
  {
   "cell_type": "code",
   "execution_count": 21,
   "metadata": {
    "collapsed": false,
    "pycharm": {
     "name": "#%%\n"
    }
   },
   "outputs": [
    {
     "data": {
      "text/plain": [
       "<AxesSubplot: >"
      ]
     },
     "execution_count": 21,
     "metadata": {},
     "output_type": "execute_result"
    },
    {
     "data": {
      "image/png": "[encoded data removed]",
      "text/plain": [
       "<Figure size 640x480 with 1 Axes>"
      ]
     },
     "metadata": {},
     "output_type": "display_data"
    }
   ],
   "source": [
    "missing_by_row = df.isna().sum(axis='columns')\n",
    "missing_by_row.hist(bins=50)"
   ]
  },
  {
   "cell_type": "markdown",
   "metadata": {
    "collapsed": false,
    "pycharm": {
     "name": "#%% md\n"
    }
   },
   "source": [
    "Also: mehr als 6000 Datensätze sind vollständig. Ein Grossteil der Datensätze hat weniger als 10 fehlende Datensätze.\n",
    "\n",
    "Im konkreten Anwendungsfall wird man dies noch weiterführen und versuchen, die Datensätze weiter einzuschränken.\n",
    "\n",
    "Oder: Herauszufinden, warum Daten fehlen. Evtl. können diese noch beschafft werden oder zukünftige Datenerhebungen können besser funktionieren. Oder, oder.\n"
   ]
  },
  {
   "cell_type": "markdown",
   "metadata": {
    "collapsed": false,
    "pycharm": {
     "name": "#%% md\n"
    }
   },
   "source": [
    "## Daten bereinigen\n",
    "\n",
    "Wichtig: Es gibt nicht die eine, beste Methode für jeden Datensatz. Die Art der Datenbereinigung muss immer situationsabhängig entschieden werden.\n",
    "\n",
    "Im Zweifelsfall lieber unterschiedliche Methoden ausprobieren und die Ergebnisse vergleichen."
   ]
  },
  {
   "cell_type": "markdown",
   "metadata": {
    "collapsed": false,
    "pycharm": {
     "name": "#%% md\n"
    }
   },
   "source": [
    "### Bereinigen: Spalten löschen\n",
    "\n",
    "Spalten im Datensatz entsprechen \"Features\", also Merkmalsausprägungen der erhobenen Daten bzw. der zugrundeliegenden Ereignisse oder Untersuchungsgegenstände.\n",
    "\n",
    "Das Löschen von Features ist immer \"schmerzhaft\", aber oft nicht zu vermeiden.\n",
    "\n",
    "Wie schon weiter oben angetönt, löschen wir Spalten mit einem hohen Anteil fehlender Daten. Hier als Beispiel bei mehr als 30%."
   ]
  },
  {
   "cell_type": "code",
   "execution_count": 22,
   "metadata": {
    "collapsed": false,
    "pycharm": {
     "name": "#%%\n"
    }
   },
   "outputs": [
    {
     "data": {
      "text/plain": [
       "max_floor                     0.314135\n",
       "material                      0.314135\n",
       "build_year                    0.446490\n",
       "num_room                      0.314135\n",
       "kitch_sq                      0.314135\n",
       "state                         0.444980\n",
       "hospital_beds_raion           0.473926\n",
       "cafe_sum_500_min_price_avg    0.435857\n",
       "cafe_sum_500_max_price_avg    0.435857\n",
       "cafe_avg_price_500            0.435857\n",
       "dtype: float64"
      ]
     },
     "execution_count": 22,
     "metadata": {},
     "output_type": "execute_result"
    }
   ],
   "source": [
    "pct_missing[pct_missing > .3]"
   ]
  },
  {
   "cell_type": "code",
   "execution_count": 23,
   "metadata": {
    "collapsed": false,
    "pycharm": {
     "name": "#%%\n"
    }
   },
   "outputs": [
    {
     "name": "stdout",
     "output_type": "stream",
     "text": [
      "<class 'pandas.core.frame.DataFrame'>\n",
      "RangeIndex: 30471 entries, 0 to 30470\n",
      "Columns: 282 entries, id to price_doc\n",
      "dtypes: float64(109), int64(157), object(16)\n",
      "memory usage: 65.6+ MB\n"
     ]
    }
   ],
   "source": [
    "df_less_missing_cols = df.loc[:, pct_missing <= 0.3].copy()\n",
    "df_less_missing_cols.info()"
   ]
  },
  {
   "cell_type": "code",
   "execution_count": 24,
   "metadata": {
    "collapsed": false,
    "pycharm": {
     "name": "#%%\n"
    }
   },
   "outputs": [
    {
     "name": "stdout",
     "output_type": "stream",
     "text": [
      "<class 'pandas.core.frame.DataFrame'>\n",
      "RangeIndex: 30471 entries, 0 to 30470\n",
      "Columns: 282 entries, id to price_doc\n",
      "dtypes: float64(109), int64(157), object(16)\n",
      "memory usage: 65.6+ MB\n"
     ]
    }
   ],
   "source": [
    "# Alternative:\n",
    "df_less_missing_cols_2 = df.drop(columns=pct_missing[pct_missing > .3].index)\n",
    "df_less_missing_cols_2.info()"
   ]
  },
  {
   "cell_type": "markdown",
   "metadata": {
    "collapsed": false,
    "pycharm": {
     "name": "#%% md\n"
    }
   },
   "source": [
    "### Bereinigen: Zeilen löschen\n",
    "\n",
    "Genau wie Spalten (Features) lassen sich natürlich auch Zeilen löschen, falls zu viele Einträge fehlen.\n",
    "\n",
    "Hier wird der Wert auf maximal 35 fehlende Werte pro Datensatz festgelegt. (rein willkürlich)"
   ]
  },
  {
   "cell_type": "code",
   "execution_count": 29,
   "metadata": {
    "collapsed": false,
    "pycharm": {
     "name": "#%%\n"
    }
   },
   "outputs": [
    {
     "name": "stdout",
     "output_type": "stream",
     "text": [
      "<class 'pandas.core.frame.DataFrame'>\n",
      "Int64Index: 29779 entries, 0 to 30470\n",
      "Columns: 292 entries, id to price_doc\n",
      "dtypes: float64(119), int64(157), object(16)\n",
      "memory usage: 66.6+ MB\n"
     ]
    }
   ],
   "source": [
    "df_less_missing_rows = df[missing_by_row < 36].copy()\n",
    "df_less_missing_rows.info()"
   ]
  },
  {
   "cell_type": "code",
   "execution_count": 30,
   "metadata": {
    "collapsed": false,
    "pycharm": {
     "name": "#%%\n"
    }
   },
   "outputs": [
    {
     "name": "stdout",
     "output_type": "stream",
     "text": [
      "<class 'pandas.core.frame.DataFrame'>\n",
      "Int64Index: 29779 entries, 0 to 30470\n",
      "Columns: 292 entries, id to price_doc\n",
      "dtypes: float64(119), int64(157), object(16)\n",
      "memory usage: 66.6+ MB\n"
     ]
    }
   ],
   "source": [
    "# Alternativ möglich:\n",
    "df_less_missing_rows_2 = df.dropna(axis=\"index\", thresh=292-35)\n",
    "df_less_missing_rows_2.info()"
   ]
  },
  {
   "cell_type": "markdown",
   "metadata": {
    "collapsed": false,
    "pycharm": {
     "name": "#%% md\n"
    }
   },
   "source": [
    "### Bereinigen: Imputation\n",
    "\n",
    "Statt zu Löschen können Daten natürlich auch ergänzt werden. Da wir die echten Daten nicht kennen, müssen wir welche \"hinzumogeln\". Das nennt man Imputation."
   ]
  },
  {
   "cell_type": "markdown",
   "metadata": {
    "collapsed": false,
    "pycharm": {
     "name": "#%% md\n"
    }
   },
   "source": [
    "#### Imputation mittels konstanter Werte\n",
    "\n",
    "Geht es nur darum, keine fehlenden Werte im Datensatz zu haben (beispielsweise damit ein Verfahren überhaupt funktioniert), können die fehlenden Werte einfach mit Konstanten ergänzt werden. Diese Konstanten können auch so gestaltet werden, dass sie später noch gut erkennbar sind.\n",
    "\n",
    "Im Beispiel werden wir fehlende numerische Werte durch -999 ersetzen und nicht-numerische Werte durch \"_MISSING_\". Letzteres ist rein exemplarisch, da ja nichts fehlte."
   ]
  },
  {
   "cell_type": "code",
   "execution_count": 31,
   "metadata": {
    "collapsed": false,
    "pycharm": {
     "name": "#%%\n"
    }
   },
   "outputs": [
    {
     "data": {
      "text/html": [
       "<div>\n",
       "<style scoped>\n",
       "    .dataframe tbody tr th:only-of-type {\n",
       "        vertical-align: middle;\n",
       "    }\n",
       "\n",
       "    .dataframe tbody tr th {\n",
       "        vertical-align: top;\n",
       "    }\n",
       "\n",
       "    .dataframe thead th {\n",
       "        text-align: right;\n",
       "    }\n",
       "</style>\n",
       "<table border=\"1\" class=\"dataframe\">\n",
       "  <thead>\n",
       "    <tr style=\"text-align: right;\">\n",
       "      <th></th>\n",
       "      <th>id</th>\n",
       "      <th>timestamp</th>\n",
       "      <th>full_sq</th>\n",
       "      <th>life_sq</th>\n",
       "      <th>floor</th>\n",
       "      <th>max_floor</th>\n",
       "      <th>material</th>\n",
       "      <th>build_year</th>\n",
       "      <th>num_room</th>\n",
       "      <th>kitch_sq</th>\n",
       "      <th>...</th>\n",
       "      <th>cafe_count_5000_price_2500</th>\n",
       "      <th>cafe_count_5000_price_4000</th>\n",
       "      <th>cafe_count_5000_price_high</th>\n",
       "      <th>big_church_count_5000</th>\n",
       "      <th>church_count_5000</th>\n",
       "      <th>mosque_count_5000</th>\n",
       "      <th>leisure_count_5000</th>\n",
       "      <th>sport_count_5000</th>\n",
       "      <th>market_count_5000</th>\n",
       "      <th>price_doc</th>\n",
       "    </tr>\n",
       "  </thead>\n",
       "  <tbody>\n",
       "    <tr>\n",
       "      <th>0</th>\n",
       "      <td>1</td>\n",
       "      <td>2011-08-20</td>\n",
       "      <td>43</td>\n",
       "      <td>27.0</td>\n",
       "      <td>4.0</td>\n",
       "      <td>-999.0</td>\n",
       "      <td>-999.0</td>\n",
       "      <td>-999.0</td>\n",
       "      <td>-999.0</td>\n",
       "      <td>-999.0</td>\n",
       "      <td>...</td>\n",
       "      <td>9</td>\n",
       "      <td>4</td>\n",
       "      <td>0</td>\n",
       "      <td>13</td>\n",
       "      <td>22</td>\n",
       "      <td>1</td>\n",
       "      <td>0</td>\n",
       "      <td>52</td>\n",
       "      <td>4</td>\n",
       "      <td>5850000</td>\n",
       "    </tr>\n",
       "    <tr>\n",
       "      <th>1</th>\n",
       "      <td>2</td>\n",
       "      <td>2011-08-23</td>\n",
       "      <td>34</td>\n",
       "      <td>19.0</td>\n",
       "      <td>3.0</td>\n",
       "      <td>-999.0</td>\n",
       "      <td>-999.0</td>\n",
       "      <td>-999.0</td>\n",
       "      <td>-999.0</td>\n",
       "      <td>-999.0</td>\n",
       "      <td>...</td>\n",
       "      <td>15</td>\n",
       "      <td>3</td>\n",
       "      <td>0</td>\n",
       "      <td>15</td>\n",
       "      <td>29</td>\n",
       "      <td>1</td>\n",
       "      <td>10</td>\n",
       "      <td>66</td>\n",
       "      <td>14</td>\n",
       "      <td>6000000</td>\n",
       "    </tr>\n",
       "    <tr>\n",
       "      <th>2</th>\n",
       "      <td>3</td>\n",
       "      <td>2011-08-27</td>\n",
       "      <td>43</td>\n",
       "      <td>29.0</td>\n",
       "      <td>2.0</td>\n",
       "      <td>-999.0</td>\n",
       "      <td>-999.0</td>\n",
       "      <td>-999.0</td>\n",
       "      <td>-999.0</td>\n",
       "      <td>-999.0</td>\n",
       "      <td>...</td>\n",
       "      <td>10</td>\n",
       "      <td>3</td>\n",
       "      <td>0</td>\n",
       "      <td>11</td>\n",
       "      <td>27</td>\n",
       "      <td>0</td>\n",
       "      <td>4</td>\n",
       "      <td>67</td>\n",
       "      <td>10</td>\n",
       "      <td>5700000</td>\n",
       "    </tr>\n",
       "    <tr>\n",
       "      <th>3</th>\n",
       "      <td>4</td>\n",
       "      <td>2011-09-01</td>\n",
       "      <td>89</td>\n",
       "      <td>50.0</td>\n",
       "      <td>9.0</td>\n",
       "      <td>-999.0</td>\n",
       "      <td>-999.0</td>\n",
       "      <td>-999.0</td>\n",
       "      <td>-999.0</td>\n",
       "      <td>-999.0</td>\n",
       "      <td>...</td>\n",
       "      <td>11</td>\n",
       "      <td>2</td>\n",
       "      <td>1</td>\n",
       "      <td>4</td>\n",
       "      <td>4</td>\n",
       "      <td>0</td>\n",
       "      <td>0</td>\n",
       "      <td>26</td>\n",
       "      <td>3</td>\n",
       "      <td>13100000</td>\n",
       "    </tr>\n",
       "    <tr>\n",
       "      <th>4</th>\n",
       "      <td>5</td>\n",
       "      <td>2011-09-05</td>\n",
       "      <td>77</td>\n",
       "      <td>77.0</td>\n",
       "      <td>4.0</td>\n",
       "      <td>-999.0</td>\n",
       "      <td>-999.0</td>\n",
       "      <td>-999.0</td>\n",
       "      <td>-999.0</td>\n",
       "      <td>-999.0</td>\n",
       "      <td>...</td>\n",
       "      <td>319</td>\n",
       "      <td>108</td>\n",
       "      <td>17</td>\n",
       "      <td>135</td>\n",
       "      <td>236</td>\n",
       "      <td>2</td>\n",
       "      <td>91</td>\n",
       "      <td>195</td>\n",
       "      <td>14</td>\n",
       "      <td>16331452</td>\n",
       "    </tr>\n",
       "    <tr>\n",
       "      <th>...</th>\n",
       "      <td>...</td>\n",
       "      <td>...</td>\n",
       "      <td>...</td>\n",
       "      <td>...</td>\n",
       "      <td>...</td>\n",
       "      <td>...</td>\n",
       "      <td>...</td>\n",
       "      <td>...</td>\n",
       "      <td>...</td>\n",
       "      <td>...</td>\n",
       "      <td>...</td>\n",
       "      <td>...</td>\n",
       "      <td>...</td>\n",
       "      <td>...</td>\n",
       "      <td>...</td>\n",
       "      <td>...</td>\n",
       "      <td>...</td>\n",
       "      <td>...</td>\n",
       "      <td>...</td>\n",
       "      <td>...</td>\n",
       "      <td>...</td>\n",
       "    </tr>\n",
       "    <tr>\n",
       "      <th>30466</th>\n",
       "      <td>30469</td>\n",
       "      <td>2015-06-30</td>\n",
       "      <td>44</td>\n",
       "      <td>27.0</td>\n",
       "      <td>7.0</td>\n",
       "      <td>9.0</td>\n",
       "      <td>1.0</td>\n",
       "      <td>1975.0</td>\n",
       "      <td>2.0</td>\n",
       "      <td>6.0</td>\n",
       "      <td>...</td>\n",
       "      <td>15</td>\n",
       "      <td>5</td>\n",
       "      <td>0</td>\n",
       "      <td>15</td>\n",
       "      <td>26</td>\n",
       "      <td>1</td>\n",
       "      <td>2</td>\n",
       "      <td>84</td>\n",
       "      <td>6</td>\n",
       "      <td>7400000</td>\n",
       "    </tr>\n",
       "    <tr>\n",
       "      <th>30467</th>\n",
       "      <td>30470</td>\n",
       "      <td>2015-06-30</td>\n",
       "      <td>86</td>\n",
       "      <td>59.0</td>\n",
       "      <td>3.0</td>\n",
       "      <td>9.0</td>\n",
       "      <td>2.0</td>\n",
       "      <td>1935.0</td>\n",
       "      <td>4.0</td>\n",
       "      <td>10.0</td>\n",
       "      <td>...</td>\n",
       "      <td>313</td>\n",
       "      <td>128</td>\n",
       "      <td>24</td>\n",
       "      <td>98</td>\n",
       "      <td>182</td>\n",
       "      <td>1</td>\n",
       "      <td>82</td>\n",
       "      <td>171</td>\n",
       "      <td>15</td>\n",
       "      <td>25000000</td>\n",
       "    </tr>\n",
       "    <tr>\n",
       "      <th>30468</th>\n",
       "      <td>30471</td>\n",
       "      <td>2015-06-30</td>\n",
       "      <td>45</td>\n",
       "      <td>-999.0</td>\n",
       "      <td>10.0</td>\n",
       "      <td>20.0</td>\n",
       "      <td>1.0</td>\n",
       "      <td>-999.0</td>\n",
       "      <td>1.0</td>\n",
       "      <td>1.0</td>\n",
       "      <td>...</td>\n",
       "      <td>1</td>\n",
       "      <td>1</td>\n",
       "      <td>0</td>\n",
       "      <td>2</td>\n",
       "      <td>12</td>\n",
       "      <td>0</td>\n",
       "      <td>1</td>\n",
       "      <td>11</td>\n",
       "      <td>1</td>\n",
       "      <td>6970959</td>\n",
       "    </tr>\n",
       "    <tr>\n",
       "      <th>30469</th>\n",
       "      <td>30472</td>\n",
       "      <td>2015-06-30</td>\n",
       "      <td>64</td>\n",
       "      <td>32.0</td>\n",
       "      <td>5.0</td>\n",
       "      <td>15.0</td>\n",
       "      <td>1.0</td>\n",
       "      <td>2003.0</td>\n",
       "      <td>2.0</td>\n",
       "      <td>11.0</td>\n",
       "      <td>...</td>\n",
       "      <td>22</td>\n",
       "      <td>1</td>\n",
       "      <td>1</td>\n",
       "      <td>6</td>\n",
       "      <td>31</td>\n",
       "      <td>1</td>\n",
       "      <td>4</td>\n",
       "      <td>65</td>\n",
       "      <td>7</td>\n",
       "      <td>13500000</td>\n",
       "    </tr>\n",
       "    <tr>\n",
       "      <th>30470</th>\n",
       "      <td>30473</td>\n",
       "      <td>2015-06-30</td>\n",
       "      <td>43</td>\n",
       "      <td>28.0</td>\n",
       "      <td>1.0</td>\n",
       "      <td>9.0</td>\n",
       "      <td>1.0</td>\n",
       "      <td>1968.0</td>\n",
       "      <td>2.0</td>\n",
       "      <td>6.0</td>\n",
       "      <td>...</td>\n",
       "      <td>5</td>\n",
       "      <td>2</td>\n",
       "      <td>0</td>\n",
       "      <td>7</td>\n",
       "      <td>16</td>\n",
       "      <td>0</td>\n",
       "      <td>9</td>\n",
       "      <td>54</td>\n",
       "      <td>10</td>\n",
       "      <td>5600000</td>\n",
       "    </tr>\n",
       "  </tbody>\n",
       "</table>\n",
       "<p>30471 rows × 292 columns</p>\n",
       "</div>"
      ],
      "text/plain": [
       "          id   timestamp  full_sq  life_sq  floor  max_floor  material  \\\n",
       "0          1  2011-08-20       43     27.0    4.0     -999.0    -999.0   \n",
       "1          2  2011-08-23       34     19.0    3.0     -999.0    -999.0   \n",
       "2          3  2011-08-27       43     29.0    2.0     -999.0    -999.0   \n",
       "3          4  2011-09-01       89     50.0    9.0     -999.0    -999.0   \n",
       "4          5  2011-09-05       77     77.0    4.0     -999.0    -999.0   \n",
       "...      ...         ...      ...      ...    ...        ...       ...   \n",
       "30466  30469  2015-06-30       44     27.0    7.0        9.0       1.0   \n",
       "30467  30470  2015-06-30       86     59.0    3.0        9.0       2.0   \n",
       "30468  30471  2015-06-30       45   -999.0   10.0       20.0       1.0   \n",
       "30469  30472  2015-06-30       64     32.0    5.0       15.0       1.0   \n",
       "30470  30473  2015-06-30       43     28.0    1.0        9.0       1.0   \n",
       "\n",
       "       build_year  num_room  kitch_sq  ...  cafe_count_5000_price_2500  \\\n",
       "0          -999.0    -999.0    -999.0  ...                           9   \n",
       "1          -999.0    -999.0    -999.0  ...                          15   \n",
       "2          -999.0    -999.0    -999.0  ...                          10   \n",
       "3          -999.0    -999.0    -999.0  ...                          11   \n",
       "4          -999.0    -999.0    -999.0  ...                         319   \n",
       "...           ...       ...       ...  ...                         ...   \n",
       "30466      1975.0       2.0       6.0  ...                          15   \n",
       "30467      1935.0       4.0      10.0  ...                         313   \n",
       "30468      -999.0       1.0       1.0  ...                           1   \n",
       "30469      2003.0       2.0      11.0  ...                          22   \n",
       "30470      1968.0       2.0       6.0  ...                           5   \n",
       "\n",
       "      cafe_count_5000_price_4000 cafe_count_5000_price_high  \\\n",
       "0                              4                          0   \n",
       "1                              3                          0   \n",
       "2                              3                          0   \n",
       "3                              2                          1   \n",
       "4                            108                         17   \n",
       "...                          ...                        ...   \n",
       "30466                          5                          0   \n",
       "30467                        128                         24   \n",
       "30468                          1                          0   \n",
       "30469                          1                          1   \n",
       "30470                          2                          0   \n",
       "\n",
       "       big_church_count_5000  church_count_5000  mosque_count_5000  \\\n",
       "0                         13                 22                  1   \n",
       "1                         15                 29                  1   \n",
       "2                         11                 27                  0   \n",
       "3                          4                  4                  0   \n",
       "4                        135                236                  2   \n",
       "...                      ...                ...                ...   \n",
       "30466                     15                 26                  1   \n",
       "30467                     98                182                  1   \n",
       "30468                      2                 12                  0   \n",
       "30469                      6                 31                  1   \n",
       "30470                      7                 16                  0   \n",
       "\n",
       "       leisure_count_5000  sport_count_5000  market_count_5000  price_doc  \n",
       "0                       0                52                  4    5850000  \n",
       "1                      10                66                 14    6000000  \n",
       "2                       4                67                 10    5700000  \n",
       "3                       0                26                  3   13100000  \n",
       "4                      91               195                 14   16331452  \n",
       "...                   ...               ...                ...        ...  \n",
       "30466                   2                84                  6    7400000  \n",
       "30467                  82               171                 15   25000000  \n",
       "30468                   1                11                  1    6970959  \n",
       "30469                   4                65                  7   13500000  \n",
       "30470                   9                54                 10    5600000  \n",
       "\n",
       "[30471 rows x 292 columns]"
      ]
     },
     "execution_count": 31,
     "metadata": {},
     "output_type": "execute_result"
    }
   ],
   "source": [
    "df_copy = df.copy()\n",
    "df_copy[numeric_cols] = df_copy[numeric_cols].fillna(-999)\n",
    "df_copy[non_numeric_cols] = df_copy[non_numeric_cols].fillna(\"_MISSING_\")\n",
    "df_copy"
   ]
  },
  {
   "cell_type": "markdown",
   "metadata": {
    "collapsed": false,
    "pycharm": {
     "name": "#%% md\n"
    }
   },
   "source": [
    "Alle Lücken geschlossen?"
   ]
  },
  {
   "cell_type": "code",
   "execution_count": 32,
   "metadata": {
    "collapsed": false,
    "pycharm": {
     "name": "#%%\n"
    }
   },
   "outputs": [
    {
     "data": {
      "text/plain": [
       "id                    0\n",
       "timestamp             0\n",
       "full_sq               0\n",
       "life_sq               0\n",
       "floor                 0\n",
       "                     ..\n",
       "mosque_count_5000     0\n",
       "leisure_count_5000    0\n",
       "sport_count_5000      0\n",
       "market_count_5000     0\n",
       "price_doc             0\n",
       "Length: 292, dtype: int64"
      ]
     },
     "execution_count": 32,
     "metadata": {},
     "output_type": "execute_result"
    }
   ],
   "source": [
    "df_copy.isna().sum()"
   ]
  },
  {
   "cell_type": "markdown",
   "metadata": {
    "collapsed": false,
    "pycharm": {
     "name": "#%% md\n"
    }
   },
   "source": [
    "#### Imputation mittels Statistik\n",
    "\n",
    "Statt deutlich gekennzeichneter Werte (quasi neue Ausreisser) können wir auch versuchen, die Daten nachzubilden. So können ggf. bessere Analyseergebnisse erzielt werden.\n",
    "\n",
    "Die fehlenden Werte können beispielsweise durch Mittelwert, Modus oder Median ersetzt werden. Auch komplexere Verteilungsnachbildungen sind möglich (gleichverteilt, normalverteilt,...). Nicht-numerische Werte lassen sich quasi auch durch den Modus ersetzen oder oder.\n",
    "\n",
    "Hinweis: Vorsicht mit einem solchen Verfahren bei vielen fehlenden Werten. Die Gefahr ist gross, dass die spätere Analyse genau die Imputation als Ergebnis wiederfindet!"
   ]
  },
  {
   "cell_type": "code",
   "execution_count": 35,
   "metadata": {
    "collapsed": false,
    "pycharm": {
     "name": "#%%\n"
    }
   },
   "outputs": [
    {
     "data": {
      "text/html": [
       "<div>\n",
       "<style scoped>\n",
       "    .dataframe tbody tr th:only-of-type {\n",
       "        vertical-align: middle;\n",
       "    }\n",
       "\n",
       "    .dataframe tbody tr th {\n",
       "        vertical-align: top;\n",
       "    }\n",
       "\n",
       "    .dataframe thead th {\n",
       "        text-align: right;\n",
       "    }\n",
       "</style>\n",
       "<table border=\"1\" class=\"dataframe\">\n",
       "  <thead>\n",
       "    <tr style=\"text-align: right;\">\n",
       "      <th></th>\n",
       "      <th>id</th>\n",
       "      <th>timestamp</th>\n",
       "      <th>full_sq</th>\n",
       "      <th>life_sq</th>\n",
       "      <th>floor</th>\n",
       "      <th>max_floor</th>\n",
       "      <th>material</th>\n",
       "      <th>build_year</th>\n",
       "      <th>num_room</th>\n",
       "      <th>kitch_sq</th>\n",
       "      <th>...</th>\n",
       "      <th>cafe_count_5000_price_2500</th>\n",
       "      <th>cafe_count_5000_price_4000</th>\n",
       "      <th>cafe_count_5000_price_high</th>\n",
       "      <th>big_church_count_5000</th>\n",
       "      <th>church_count_5000</th>\n",
       "      <th>mosque_count_5000</th>\n",
       "      <th>leisure_count_5000</th>\n",
       "      <th>sport_count_5000</th>\n",
       "      <th>market_count_5000</th>\n",
       "      <th>price_doc</th>\n",
       "    </tr>\n",
       "  </thead>\n",
       "  <tbody>\n",
       "    <tr>\n",
       "      <th>0</th>\n",
       "      <td>1</td>\n",
       "      <td>2011-08-20</td>\n",
       "      <td>43</td>\n",
       "      <td>27.0</td>\n",
       "      <td>4.0</td>\n",
       "      <td>12.0</td>\n",
       "      <td>1.0</td>\n",
       "      <td>1979.0</td>\n",
       "      <td>2.0</td>\n",
       "      <td>6.0</td>\n",
       "      <td>...</td>\n",
       "      <td>9</td>\n",
       "      <td>4</td>\n",
       "      <td>0</td>\n",
       "      <td>13</td>\n",
       "      <td>22</td>\n",
       "      <td>1</td>\n",
       "      <td>0</td>\n",
       "      <td>52</td>\n",
       "      <td>4</td>\n",
       "      <td>5850000</td>\n",
       "    </tr>\n",
       "    <tr>\n",
       "      <th>1</th>\n",
       "      <td>2</td>\n",
       "      <td>2011-08-23</td>\n",
       "      <td>34</td>\n",
       "      <td>19.0</td>\n",
       "      <td>3.0</td>\n",
       "      <td>12.0</td>\n",
       "      <td>1.0</td>\n",
       "      <td>1979.0</td>\n",
       "      <td>2.0</td>\n",
       "      <td>6.0</td>\n",
       "      <td>...</td>\n",
       "      <td>15</td>\n",
       "      <td>3</td>\n",
       "      <td>0</td>\n",
       "      <td>15</td>\n",
       "      <td>29</td>\n",
       "      <td>1</td>\n",
       "      <td>10</td>\n",
       "      <td>66</td>\n",
       "      <td>14</td>\n",
       "      <td>6000000</td>\n",
       "    </tr>\n",
       "    <tr>\n",
       "      <th>2</th>\n",
       "      <td>3</td>\n",
       "      <td>2011-08-27</td>\n",
       "      <td>43</td>\n",
       "      <td>29.0</td>\n",
       "      <td>2.0</td>\n",
       "      <td>12.0</td>\n",
       "      <td>1.0</td>\n",
       "      <td>1979.0</td>\n",
       "      <td>2.0</td>\n",
       "      <td>6.0</td>\n",
       "      <td>...</td>\n",
       "      <td>10</td>\n",
       "      <td>3</td>\n",
       "      <td>0</td>\n",
       "      <td>11</td>\n",
       "      <td>27</td>\n",
       "      <td>0</td>\n",
       "      <td>4</td>\n",
       "      <td>67</td>\n",
       "      <td>10</td>\n",
       "      <td>5700000</td>\n",
       "    </tr>\n",
       "    <tr>\n",
       "      <th>3</th>\n",
       "      <td>4</td>\n",
       "      <td>2011-09-01</td>\n",
       "      <td>89</td>\n",
       "      <td>50.0</td>\n",
       "      <td>9.0</td>\n",
       "      <td>12.0</td>\n",
       "      <td>1.0</td>\n",
       "      <td>1979.0</td>\n",
       "      <td>2.0</td>\n",
       "      <td>6.0</td>\n",
       "      <td>...</td>\n",
       "      <td>11</td>\n",
       "      <td>2</td>\n",
       "      <td>1</td>\n",
       "      <td>4</td>\n",
       "      <td>4</td>\n",
       "      <td>0</td>\n",
       "      <td>0</td>\n",
       "      <td>26</td>\n",
       "      <td>3</td>\n",
       "      <td>13100000</td>\n",
       "    </tr>\n",
       "    <tr>\n",
       "      <th>4</th>\n",
       "      <td>5</td>\n",
       "      <td>2011-09-05</td>\n",
       "      <td>77</td>\n",
       "      <td>77.0</td>\n",
       "      <td>4.0</td>\n",
       "      <td>12.0</td>\n",
       "      <td>1.0</td>\n",
       "      <td>1979.0</td>\n",
       "      <td>2.0</td>\n",
       "      <td>6.0</td>\n",
       "      <td>...</td>\n",
       "      <td>319</td>\n",
       "      <td>108</td>\n",
       "      <td>17</td>\n",
       "      <td>135</td>\n",
       "      <td>236</td>\n",
       "      <td>2</td>\n",
       "      <td>91</td>\n",
       "      <td>195</td>\n",
       "      <td>14</td>\n",
       "      <td>16331452</td>\n",
       "    </tr>\n",
       "    <tr>\n",
       "      <th>...</th>\n",
       "      <td>...</td>\n",
       "      <td>...</td>\n",
       "      <td>...</td>\n",
       "      <td>...</td>\n",
       "      <td>...</td>\n",
       "      <td>...</td>\n",
       "      <td>...</td>\n",
       "      <td>...</td>\n",
       "      <td>...</td>\n",
       "      <td>...</td>\n",
       "      <td>...</td>\n",
       "      <td>...</td>\n",
       "      <td>...</td>\n",
       "      <td>...</td>\n",
       "      <td>...</td>\n",
       "      <td>...</td>\n",
       "      <td>...</td>\n",
       "      <td>...</td>\n",
       "      <td>...</td>\n",
       "      <td>...</td>\n",
       "      <td>...</td>\n",
       "    </tr>\n",
       "    <tr>\n",
       "      <th>30466</th>\n",
       "      <td>30469</td>\n",
       "      <td>2015-06-30</td>\n",
       "      <td>44</td>\n",
       "      <td>27.0</td>\n",
       "      <td>7.0</td>\n",
       "      <td>9.0</td>\n",
       "      <td>1.0</td>\n",
       "      <td>1975.0</td>\n",
       "      <td>2.0</td>\n",
       "      <td>6.0</td>\n",
       "      <td>...</td>\n",
       "      <td>15</td>\n",
       "      <td>5</td>\n",
       "      <td>0</td>\n",
       "      <td>15</td>\n",
       "      <td>26</td>\n",
       "      <td>1</td>\n",
       "      <td>2</td>\n",
       "      <td>84</td>\n",
       "      <td>6</td>\n",
       "      <td>7400000</td>\n",
       "    </tr>\n",
       "    <tr>\n",
       "      <th>30467</th>\n",
       "      <td>30470</td>\n",
       "      <td>2015-06-30</td>\n",
       "      <td>86</td>\n",
       "      <td>59.0</td>\n",
       "      <td>3.0</td>\n",
       "      <td>9.0</td>\n",
       "      <td>2.0</td>\n",
       "      <td>1935.0</td>\n",
       "      <td>4.0</td>\n",
       "      <td>10.0</td>\n",
       "      <td>...</td>\n",
       "      <td>313</td>\n",
       "      <td>128</td>\n",
       "      <td>24</td>\n",
       "      <td>98</td>\n",
       "      <td>182</td>\n",
       "      <td>1</td>\n",
       "      <td>82</td>\n",
       "      <td>171</td>\n",
       "      <td>15</td>\n",
       "      <td>25000000</td>\n",
       "    </tr>\n",
       "    <tr>\n",
       "      <th>30468</th>\n",
       "      <td>30471</td>\n",
       "      <td>2015-06-30</td>\n",
       "      <td>45</td>\n",
       "      <td>30.0</td>\n",
       "      <td>10.0</td>\n",
       "      <td>20.0</td>\n",
       "      <td>1.0</td>\n",
       "      <td>1979.0</td>\n",
       "      <td>1.0</td>\n",
       "      <td>1.0</td>\n",
       "      <td>...</td>\n",
       "      <td>1</td>\n",
       "      <td>1</td>\n",
       "      <td>0</td>\n",
       "      <td>2</td>\n",
       "      <td>12</td>\n",
       "      <td>0</td>\n",
       "      <td>1</td>\n",
       "      <td>11</td>\n",
       "      <td>1</td>\n",
       "      <td>6970959</td>\n",
       "    </tr>\n",
       "    <tr>\n",
       "      <th>30469</th>\n",
       "      <td>30472</td>\n",
       "      <td>2015-06-30</td>\n",
       "      <td>64</td>\n",
       "      <td>32.0</td>\n",
       "      <td>5.0</td>\n",
       "      <td>15.0</td>\n",
       "      <td>1.0</td>\n",
       "      <td>2003.0</td>\n",
       "      <td>2.0</td>\n",
       "      <td>11.0</td>\n",
       "      <td>...</td>\n",
       "      <td>22</td>\n",
       "      <td>1</td>\n",
       "      <td>1</td>\n",
       "      <td>6</td>\n",
       "      <td>31</td>\n",
       "      <td>1</td>\n",
       "      <td>4</td>\n",
       "      <td>65</td>\n",
       "      <td>7</td>\n",
       "      <td>13500000</td>\n",
       "    </tr>\n",
       "    <tr>\n",
       "      <th>30470</th>\n",
       "      <td>30473</td>\n",
       "      <td>2015-06-30</td>\n",
       "      <td>43</td>\n",
       "      <td>28.0</td>\n",
       "      <td>1.0</td>\n",
       "      <td>9.0</td>\n",
       "      <td>1.0</td>\n",
       "      <td>1968.0</td>\n",
       "      <td>2.0</td>\n",
       "      <td>6.0</td>\n",
       "      <td>...</td>\n",
       "      <td>5</td>\n",
       "      <td>2</td>\n",
       "      <td>0</td>\n",
       "      <td>7</td>\n",
       "      <td>16</td>\n",
       "      <td>0</td>\n",
       "      <td>9</td>\n",
       "      <td>54</td>\n",
       "      <td>10</td>\n",
       "      <td>5600000</td>\n",
       "    </tr>\n",
       "  </tbody>\n",
       "</table>\n",
       "<p>30471 rows × 292 columns</p>\n",
       "</div>"
      ],
      "text/plain": [
       "          id   timestamp  full_sq  life_sq  floor  max_floor  material  \\\n",
       "0          1  2011-08-20       43     27.0    4.0       12.0       1.0   \n",
       "1          2  2011-08-23       34     19.0    3.0       12.0       1.0   \n",
       "2          3  2011-08-27       43     29.0    2.0       12.0       1.0   \n",
       "3          4  2011-09-01       89     50.0    9.0       12.0       1.0   \n",
       "4          5  2011-09-05       77     77.0    4.0       12.0       1.0   \n",
       "...      ...         ...      ...      ...    ...        ...       ...   \n",
       "30466  30469  2015-06-30       44     27.0    7.0        9.0       1.0   \n",
       "30467  30470  2015-06-30       86     59.0    3.0        9.0       2.0   \n",
       "30468  30471  2015-06-30       45     30.0   10.0       20.0       1.0   \n",
       "30469  30472  2015-06-30       64     32.0    5.0       15.0       1.0   \n",
       "30470  30473  2015-06-30       43     28.0    1.0        9.0       1.0   \n",
       "\n",
       "       build_year  num_room  kitch_sq  ...  cafe_count_5000_price_2500  \\\n",
       "0          1979.0       2.0       6.0  ...                           9   \n",
       "1          1979.0       2.0       6.0  ...                          15   \n",
       "2          1979.0       2.0       6.0  ...                          10   \n",
       "3          1979.0       2.0       6.0  ...                          11   \n",
       "4          1979.0       2.0       6.0  ...                         319   \n",
       "...           ...       ...       ...  ...                         ...   \n",
       "30466      1975.0       2.0       6.0  ...                          15   \n",
       "30467      1935.0       4.0      10.0  ...                         313   \n",
       "30468      1979.0       1.0       1.0  ...                           1   \n",
       "30469      2003.0       2.0      11.0  ...                          22   \n",
       "30470      1968.0       2.0       6.0  ...                           5   \n",
       "\n",
       "      cafe_count_5000_price_4000 cafe_count_5000_price_high  \\\n",
       "0                              4                          0   \n",
       "1                              3                          0   \n",
       "2                              3                          0   \n",
       "3                              2                          1   \n",
       "4                            108                         17   \n",
       "...                          ...                        ...   \n",
       "30466                          5                          0   \n",
       "30467                        128                         24   \n",
       "30468                          1                          0   \n",
       "30469                          1                          1   \n",
       "30470                          2                          0   \n",
       "\n",
       "       big_church_count_5000  church_count_5000  mosque_count_5000  \\\n",
       "0                         13                 22                  1   \n",
       "1                         15                 29                  1   \n",
       "2                         11                 27                  0   \n",
       "3                          4                  4                  0   \n",
       "4                        135                236                  2   \n",
       "...                      ...                ...                ...   \n",
       "30466                     15                 26                  1   \n",
       "30467                     98                182                  1   \n",
       "30468                      2                 12                  0   \n",
       "30469                      6                 31                  1   \n",
       "30470                      7                 16                  0   \n",
       "\n",
       "       leisure_count_5000  sport_count_5000  market_count_5000  price_doc  \n",
       "0                       0                52                  4    5850000  \n",
       "1                      10                66                 14    6000000  \n",
       "2                       4                67                 10    5700000  \n",
       "3                       0                26                  3   13100000  \n",
       "4                      91               195                 14   16331452  \n",
       "...                   ...               ...                ...        ...  \n",
       "30466                   2                84                  6    7400000  \n",
       "30467                  82               171                 15   25000000  \n",
       "30468                   1                11                  1    6970959  \n",
       "30469                   4                65                  7   13500000  \n",
       "30470                   9                54                 10    5600000  \n",
       "\n",
       "[30471 rows x 292 columns]"
      ]
     },
     "execution_count": 35,
     "metadata": {},
     "output_type": "execute_result"
    }
   ],
   "source": [
    "df_copy = df.copy()\n",
    "med = df_copy[numeric_cols].median()\n",
    "df_copy[numeric_cols] = df_copy[numeric_cols].fillna(med)\n",
    "df_copy"
   ]
  },
  {
   "cell_type": "markdown",
   "metadata": {
    "collapsed": false,
    "pycharm": {
     "name": "#%% md\n"
    }
   },
   "source": [
    "Schon wesentlich dichter an \"echten Daten\". Darin liegt aber auch die Gefahr dieses Ansatzes."
   ]
  },
  {
   "cell_type": "code",
   "execution_count": 36,
   "metadata": {
    "collapsed": false,
    "pycharm": {
     "name": "#%%\n"
    }
   },
   "outputs": [
    {
     "data": {
      "text/plain": [
       "timestamp                             2014-12-16\n",
       "product_type                          Investment\n",
       "sub_area                     Poselenie Sosenskoe\n",
       "culture_objects_top_25                        no\n",
       "thermal_power_plant_raion                     no\n",
       "incineration_raion                            no\n",
       "oil_chemistry_raion                           no\n",
       "radiation_raion                               no\n",
       "railroad_terminal_raion                       no\n",
       "big_market_raion                              no\n",
       "nuclear_reactor_raion                         no\n",
       "detention_facility_raion                      no\n",
       "water_1line                                   no\n",
       "big_road1_1line                               no\n",
       "railroad_1line                                no\n",
       "ecology                                     poor\n",
       "Name: top, dtype: object"
      ]
     },
     "execution_count": 36,
     "metadata": {},
     "output_type": "execute_result"
    }
   ],
   "source": [
    "most_freq = df_copy[non_numeric_cols].describe().loc['top']\n",
    "most_freq"
   ]
  },
  {
   "cell_type": "code",
   "execution_count": 38,
   "metadata": {
    "collapsed": false,
    "pycharm": {
     "name": "#%%\n"
    }
   },
   "outputs": [],
   "source": [
    "# einfüllen in den Datensatz (wieder nur exemplarisch)\n",
    "df_copy[non_numeric_cols] = df_copy[non_numeric_cols].fillna(most_freq)"
   ]
  },
  {
   "cell_type": "markdown",
   "metadata": {
    "collapsed": false,
    "pycharm": {
     "name": "#%% md\n"
    }
   },
   "source": [
    "## Data Cleaning: Ausreisser\n",
    "\n",
    "Es gibt mehrere statistische Verfahren zur Ausreissererkennung. Ein mögliches Verfahren zu Hinweisen auf Ausreisser ist die sogenannte \"Kurtosis\", also ein Mass für die Abweichung von der Normalverteilung - auch \"Wölbung\" genannt.\n",
    "\n",
    "Werfen wir einen Blick auf unseren Datensatz:"
   ]
  },
  {
   "cell_type": "code",
   "execution_count": 39,
   "metadata": {
    "collapsed": false,
    "pycharm": {
     "name": "#%%\n"
    }
   },
   "outputs": [
    {
     "data": {
      "text/plain": [
       "id               -1.199940\n",
       "full_sq       12128.727462\n",
       "life_sq       17058.409645\n",
       "floor             1.731182\n",
       "max_floor         6.595262\n",
       "material          1.358512\n",
       "build_year    16865.716093\n",
       "num_room         13.292374\n",
       "kitch_sq       4680.043742\n",
       "state            88.399730\n",
       "dtype: float64"
      ]
     },
     "execution_count": 39,
     "metadata": {},
     "output_type": "execute_result"
    }
   ],
   "source": [
    "df.kurt(numeric_only=True)[:10]"
   ]
  },
  {
   "cell_type": "markdown",
   "metadata": {
    "collapsed": false,
    "pycharm": {
     "name": "#%% md\n"
    }
   },
   "source": [
    "Hohe Werte bei \"life_sq\" und \"build_year\" - schauen wir beim ersten genauer hin (warum nicht beim zweiten?)."
   ]
  },
  {
   "cell_type": "code",
   "execution_count": 40,
   "metadata": {
    "collapsed": false,
    "pycharm": {
     "name": "#%%\n"
    }
   },
   "outputs": [
    {
     "data": {
      "text/plain": [
       "count    24088.000000\n",
       "mean        34.403271\n",
       "std         52.285733\n",
       "min          0.000000\n",
       "25%         20.000000\n",
       "50%         30.000000\n",
       "75%         43.000000\n",
       "max       7478.000000\n",
       "Name: life_sq, dtype: float64"
      ]
     },
     "execution_count": 40,
     "metadata": {},
     "output_type": "execute_result"
    }
   ],
   "source": [
    "df['life_sq'].describe()"
   ]
  },
  {
   "cell_type": "markdown",
   "metadata": {
    "collapsed": false,
    "pycharm": {
     "name": "#%% md\n"
    }
   },
   "source": [
    "Das Maximum scheint ein Kandidat für einen Ausreisser zu sein..."
   ]
  },
  {
   "cell_type": "markdown",
   "metadata": {
    "collapsed": false,
    "pycharm": {
     "name": "#%% md\n"
    }
   },
   "source": [
    "#### Ausreisser: Visualisierung\n",
    "\n",
    "Ein weiteres Verfahren haben wir schon kennengelernt: Visualisierung mittels Histogramm. Neu dazu nehmen wir Boxplots."
   ]
  },
  {
   "cell_type": "code",
   "execution_count": 41,
   "metadata": {
    "collapsed": false,
    "pycharm": {
     "name": "#%%\n"
    }
   },
   "outputs": [
    {
     "data": {
      "text/plain": [
       "<AxesSubplot: >"
      ]
     },
     "execution_count": 41,
     "metadata": {},
     "output_type": "execute_result"
    },
    {
     "data": {
      "image/png": "[encoded data removed]",
      "text/plain": [
       "<Figure size 640x480 with 1 Axes>"
      ]
     },
     "metadata": {},
     "output_type": "display_data"
    }
   ],
   "source": [
    "df['life_sq'].hist(bins=100)"
   ]
  },
  {
   "cell_type": "markdown",
   "metadata": {
    "collapsed": false,
    "pycharm": {
     "name": "#%% md\n"
    }
   },
   "source": [
    "Verdächtig, aber nicht informativ. Werte sind nicht sichtbar..."
   ]
  },
  {
   "cell_type": "code",
   "execution_count": 42,
   "metadata": {
    "collapsed": false,
    "pycharm": {
     "name": "#%%\n"
    }
   },
   "outputs": [
    {
     "data": {
      "text/plain": [
       "<AxesSubplot: >"
      ]
     },
     "execution_count": 42,
     "metadata": {},
     "output_type": "execute_result"
    },
    {
     "data": {
      "image/png": "[encoded data removed]",
      "text/plain": [
       "<Figure size 640x480 with 1 Axes>"
      ]
     },
     "metadata": {},
     "output_type": "display_data"
    }
   ],
   "source": [
    "df.boxplot(column=['life_sq'])"
   ]
  },
  {
   "cell_type": "markdown",
   "metadata": {
    "collapsed": false,
    "pycharm": {
     "name": "#%% md\n"
    }
   },
   "source": [
    "Der 7000-Wert scheint ein klarer Ausreisser zu sein. Es gibt aber noch mehr Ausreisser-Kandidaten (die anderen Kringel)."
   ]
  },
  {
   "cell_type": "code",
   "execution_count": 45,
   "metadata": {
    "collapsed": false,
    "pycharm": {
     "name": "#%%\n"
    }
   },
   "outputs": [
    {
     "data": {
      "text/plain": [
       "<AxesSubplot: >"
      ]
     },
     "execution_count": 45,
     "metadata": {},
     "output_type": "execute_result"
    },
    {
     "data": {
      "image/png": "[encoded data removed]",
      "text/plain": [
       "<Figure size 640x480 with 1 Axes>"
      ]
     },
     "metadata": {},
     "output_type": "display_data"
    }
   ],
   "source": [
    "df.life_sq[df.life_sq < 1000].plot.box()"
   ]
  },
  {
   "cell_type": "code",
   "execution_count": 46,
   "metadata": {
    "collapsed": false,
    "pycharm": {
     "name": "#%%\n"
    }
   },
   "outputs": [
    {
     "data": {
      "text/plain": [
       "<AxesSubplot: >"
      ]
     },
     "execution_count": 46,
     "metadata": {},
     "output_type": "execute_result"
    },
    {
     "data": {
      "image/png": "[encoded data removed]",
      "text/plain": [
       "<Figure size 640x480 with 1 Axes>"
      ]
     },
     "metadata": {},
     "output_type": "display_data"
    }
   ],
   "source": [
    "df.life_sq[df.life_sq < 200].plot.box()"
   ]
  },
  {
   "cell_type": "markdown",
   "metadata": {
    "collapsed": false,
    "pycharm": {
     "name": "#%% md\n"
    }
   },
   "source": [
    "Russische Wohnungen scheinen nicht besonders gross zu sein..."
   ]
  },
  {
   "cell_type": "markdown",
   "metadata": {
    "collapsed": false,
    "pycharm": {
     "name": "#%% md\n"
    }
   },
   "source": [
    "#### Ausreisser bei nicht-numerischen Daten\n",
    "\n",
    "Etwas schwieriger zu finden. Zum Beispiel durch Inspektion der Daten bzw. ihrer Kategorien."
   ]
  },
  {
   "cell_type": "code",
   "execution_count": 47,
   "metadata": {
    "collapsed": false,
    "pycharm": {
     "name": "#%%\n"
    }
   },
   "outputs": [
    {
     "data": {
      "text/plain": [
       "<AxesSubplot: >"
      ]
     },
     "execution_count": 47,
     "metadata": {},
     "output_type": "execute_result"
    },
    {
     "data": {
      "image/png": "[encoded data removed]",
      "text/plain": [
       "<Figure size 640x480 with 1 Axes>"
      ]
     },
     "metadata": {},
     "output_type": "display_data"
    }
   ],
   "source": [
    "df['ecology'].value_counts().plot(kind='bar')"
   ]
  },
  {
   "cell_type": "markdown",
   "metadata": {
    "collapsed": false,
    "pycharm": {
     "name": "#%% md\n"
    }
   },
   "source": [
    "Weitere Methoden hängen von den Daten ab. Plots können hilfreich sein, gerade auch Scatter-Plots. Bei Datumswerten kann die Spannweite gute Anhaltspunkte geben oder auch aggregierte Zeiträume. Und vieles weiteres mehr..."
   ]
  },
  {
   "cell_type": "markdown",
   "metadata": {
    "collapsed": false,
    "pycharm": {
     "name": "#%% md\n"
    }
   },
   "source": [
    "#### Behandlung von Ausreissern\n",
    "\n",
    "Prinzipiell sind die gleichen Verfahren denkbar wie bei fehlenden Daten: Löschen oder Ausschliessen von Spalten/Zeilen, Umwandeln in passendere Werte usw."
   ]
  },
  {
   "cell_type": "markdown",
   "metadata": {
    "collapsed": false,
    "pycharm": {
     "name": "#%% md\n"
    }
   },
   "source": [
    "Material basiert teilweise auf weiteren Internetquellen:\n",
    "https://www.justintodata.com/data-cleaning-techniques-python-guide/\n",
    "https://realpython.com/python-data-cleaning-numpy-pandas/#%%"
   ]
  }
 ],
 "metadata": {
  "kernelspec": {
   "display_name": ".venv",
   "language": "python",
   "name": "python3"
  },
  "language_info": {
   "codemirror_mode": {
    "name": "ipython",
    "version": 2
   },
   "file_extension": ".py",
   "mimetype": "text/x-python",
   "name": "python",
   "nbconvert_exporter": "python",
   "pygments_lexer": "ipython2",
   "version": "3.10.4 (tags/v3.10.4:9d38120, Mar 23 2022, 23:13:41) [MSC v.1929 64 bit (AMD64)]"
  },
  "vscode": {
   "interpreter": {
    "hash": "511f98252977769337e6ede8befacc6974cba65790423b61aaa108af8e2092b5"
   }
  }
 },
 "nbformat": 4,
 "nbformat_minor": 0
}
